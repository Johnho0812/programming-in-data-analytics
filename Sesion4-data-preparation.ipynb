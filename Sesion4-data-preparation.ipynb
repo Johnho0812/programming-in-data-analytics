{
 "cells": [
  {
   "cell_type": "code",
   "execution_count": null,
   "id": "0c6ccf50-b972-4a4b-9654-fbd3fc2d54ea",
   "metadata": {},
   "outputs": [],
   "source": []
  },
  {
   "cell_type": "markdown",
   "id": "85109dd6",
   "metadata": {},
   "source": [
    "# Data Loading, Preparation, and Exploration"
   ]
  },
  {
   "cell_type": "markdown",
   "id": "fd21a27a",
   "metadata": {},
   "source": [
    "References:\n",
    "\n",
    "[1] VanderPlas, Jake. *Python data science handbook: Essential tools for working with data. Second Edition* \" O'Reilly Media, Inc.\", 2023.\n",
    "\n",
    "[2] McKinney, Wes. *Python for data analysis.* \" O'Reilly Media, Inc.\", 2022.\n",
    "\n",
    "[3] Johansson, Robert, Robert Johansson, and Suresh John. *Numerical python.* Vol. 1. New York: Apress, 2019."
   ]
  },
  {
   "cell_type": "code",
   "execution_count": 5,
   "id": "f5ac0516-68f0-46cc-80bf-f4ac29099c27",
   "metadata": {
    "tags": []
   },
   "outputs": [],
   "source": [
    "import numpy as np\n",
    "import pandas as pd"
   ]
  },
  {
   "cell_type": "markdown",
   "id": "e9c3d791",
   "metadata": {},
   "source": [
    "## 1 Data Loading"
   ]
  },
  {
   "cell_type": "markdown",
   "id": "3416d4c1-2798-4019-ad3c-a9498cc944d1",
   "metadata": {},
   "source": [
    "Reading the data is most of the time, the first step in any data analysis. We also use a similar term *parsing* when we describe loading text data and interpreting it as tables and into different data types. In this notebook, we'll cover the basics of data loading using pandas."
   ]
  },
  {
   "cell_type": "markdown",
   "id": "7bbfcf35-f6b4-48af-b1c5-f166c37efbc7",
   "metadata": {},
   "source": [
    "### Reading `csv` files"
   ]
  },
  {
   "cell_type": "markdown",
   "id": "f77b9c7b-bfe0-4ad6-b706-c0440702be05",
   "metadata": {},
   "source": [
    "Let's start with reading a small comma-separated values (CSV):"
   ]
  },
  {
   "cell_type": "code",
   "execution_count": 69,
   "id": "b750b640-ffb8-403f-9010-f539b80c80e5",
   "metadata": {
    "tags": []
   },
   "outputs": [
    {
     "name": "stderr",
     "output_type": "stream",
     "text": [
      "'cat' is not recognized as an internal or external command,\n",
      "operable program or batch file.\n"
     ]
    }
   ],
   "source": [
    "!cat data/ex1.csv"
   ]
  },
  {
   "cell_type": "markdown",
   "id": "f61e9b67-67fa-4bb5-82a8-d306a62f9669",
   "metadata": {},
   "source": [
    "Since this data is comma delimited, we can readily use `pandas.read_csv` to read and turn it into a `DataFrame`."
   ]
  },
  {
   "cell_type": "code",
   "execution_count": 81,
   "id": "e92d6e5e-5b68-4009-b84b-2e6cf2f294f8",
   "metadata": {
    "tags": []
   },
   "outputs": [
    {
     "data": {
      "text/html": [
       "<div>\n",
       "<style scoped>\n",
       "    .dataframe tbody tr th:only-of-type {\n",
       "        vertical-align: middle;\n",
       "    }\n",
       "\n",
       "    .dataframe tbody tr th {\n",
       "        vertical-align: top;\n",
       "    }\n",
       "\n",
       "    .dataframe thead th {\n",
       "        text-align: right;\n",
       "    }\n",
       "</style>\n",
       "<table border=\"1\" class=\"dataframe\">\n",
       "  <thead>\n",
       "    <tr style=\"text-align: right;\">\n",
       "      <th></th>\n",
       "      <th>a</th>\n",
       "      <th>b</th>\n",
       "      <th>c</th>\n",
       "      <th>d</th>\n",
       "      <th>message</th>\n",
       "    </tr>\n",
       "  </thead>\n",
       "  <tbody>\n",
       "    <tr>\n",
       "      <th>0</th>\n",
       "      <td>1</td>\n",
       "      <td>2</td>\n",
       "      <td>3</td>\n",
       "      <td>4</td>\n",
       "      <td>hello</td>\n",
       "    </tr>\n",
       "    <tr>\n",
       "      <th>1</th>\n",
       "      <td>5</td>\n",
       "      <td>6</td>\n",
       "      <td>7</td>\n",
       "      <td>8</td>\n",
       "      <td>world</td>\n",
       "    </tr>\n",
       "    <tr>\n",
       "      <th>2</th>\n",
       "      <td>9</td>\n",
       "      <td>10</td>\n",
       "      <td>11</td>\n",
       "      <td>12</td>\n",
       "      <td>foo</td>\n",
       "    </tr>\n",
       "  </tbody>\n",
       "</table>\n",
       "</div>"
      ],
      "text/plain": [
       "   a   b   c   d message\n",
       "0  1   2   3   4   hello\n",
       "1  5   6   7   8   world\n",
       "2  9  10  11  12     foo"
      ]
     },
     "execution_count": 81,
     "metadata": {},
     "output_type": "execute_result"
    }
   ],
   "source": [
    "df = pd.read_csv('ex1.csv')\n",
    "df"
   ]
  },
  {
   "cell_type": "markdown",
   "id": "653fa6a6-85bc-4847-a631-80b2c9f08380",
   "metadata": {},
   "source": [
    "Some files don't have a header (column label) row."
   ]
  },
  {
   "cell_type": "code",
   "execution_count": 83,
   "id": "315cb43d-e055-45e5-ae7f-391cafbed73a",
   "metadata": {
    "tags": []
   },
   "outputs": [
    {
     "name": "stderr",
     "output_type": "stream",
     "text": [
      "'cat' is not recognized as an internal or external command,\n",
      "operable program or batch file.\n"
     ]
    }
   ],
   "source": [
    "!cat data/ex2.csv"
   ]
  },
  {
   "cell_type": "markdown",
   "id": "ded42591-5fd8-4add-a1b4-968dcc2e2dea",
   "metadata": {},
   "source": [
    "In such cases, we can let pandas define a default integer columns,"
   ]
  },
  {
   "cell_type": "code",
   "execution_count": 85,
   "id": "4c53c9b0-9739-42c9-8109-0156a8eb8876",
   "metadata": {
    "tags": []
   },
   "outputs": [
    {
     "data": {
      "text/html": [
       "<div>\n",
       "<style scoped>\n",
       "    .dataframe tbody tr th:only-of-type {\n",
       "        vertical-align: middle;\n",
       "    }\n",
       "\n",
       "    .dataframe tbody tr th {\n",
       "        vertical-align: top;\n",
       "    }\n",
       "\n",
       "    .dataframe thead th {\n",
       "        text-align: right;\n",
       "    }\n",
       "</style>\n",
       "<table border=\"1\" class=\"dataframe\">\n",
       "  <thead>\n",
       "    <tr style=\"text-align: right;\">\n",
       "      <th></th>\n",
       "      <th>0</th>\n",
       "      <th>1</th>\n",
       "      <th>2</th>\n",
       "      <th>3</th>\n",
       "      <th>4</th>\n",
       "    </tr>\n",
       "  </thead>\n",
       "  <tbody>\n",
       "    <tr>\n",
       "      <th>0</th>\n",
       "      <td>1</td>\n",
       "      <td>2</td>\n",
       "      <td>3</td>\n",
       "      <td>4</td>\n",
       "      <td>hello</td>\n",
       "    </tr>\n",
       "    <tr>\n",
       "      <th>1</th>\n",
       "      <td>5</td>\n",
       "      <td>6</td>\n",
       "      <td>7</td>\n",
       "      <td>8</td>\n",
       "      <td>world</td>\n",
       "    </tr>\n",
       "    <tr>\n",
       "      <th>2</th>\n",
       "      <td>9</td>\n",
       "      <td>10</td>\n",
       "      <td>11</td>\n",
       "      <td>12</td>\n",
       "      <td>foo</td>\n",
       "    </tr>\n",
       "  </tbody>\n",
       "</table>\n",
       "</div>"
      ],
      "text/plain": [
       "   0   1   2   3      4\n",
       "0  1   2   3   4  hello\n",
       "1  5   6   7   8  world\n",
       "2  9  10  11  12    foo"
      ]
     },
     "execution_count": 85,
     "metadata": {},
     "output_type": "execute_result"
    }
   ],
   "source": [
    "pd.read_csv('ex2.csv', header=None)"
   ]
  },
  {
   "cell_type": "markdown",
   "id": "41228017-a852-436e-8f00-5392accdcc44",
   "metadata": {},
   "source": [
    "Or we can specify the names ourselves:"
   ]
  },
  {
   "cell_type": "code",
   "execution_count": 89,
   "id": "4cef21af-d5ed-46f6-8fc9-18382e9adaec",
   "metadata": {
    "tags": []
   },
   "outputs": [
    {
     "data": {
      "text/html": [
       "<div>\n",
       "<style scoped>\n",
       "    .dataframe tbody tr th:only-of-type {\n",
       "        vertical-align: middle;\n",
       "    }\n",
       "\n",
       "    .dataframe tbody tr th {\n",
       "        vertical-align: top;\n",
       "    }\n",
       "\n",
       "    .dataframe thead th {\n",
       "        text-align: right;\n",
       "    }\n",
       "</style>\n",
       "<table border=\"1\" class=\"dataframe\">\n",
       "  <thead>\n",
       "    <tr style=\"text-align: right;\">\n",
       "      <th></th>\n",
       "      <th>a</th>\n",
       "      <th>b</th>\n",
       "      <th>c</th>\n",
       "      <th>d</th>\n",
       "      <th>message</th>\n",
       "    </tr>\n",
       "  </thead>\n",
       "  <tbody>\n",
       "    <tr>\n",
       "      <th>0</th>\n",
       "      <td>1</td>\n",
       "      <td>2</td>\n",
       "      <td>3</td>\n",
       "      <td>4</td>\n",
       "      <td>hello</td>\n",
       "    </tr>\n",
       "    <tr>\n",
       "      <th>1</th>\n",
       "      <td>5</td>\n",
       "      <td>6</td>\n",
       "      <td>7</td>\n",
       "      <td>8</td>\n",
       "      <td>world</td>\n",
       "    </tr>\n",
       "    <tr>\n",
       "      <th>2</th>\n",
       "      <td>9</td>\n",
       "      <td>10</td>\n",
       "      <td>11</td>\n",
       "      <td>12</td>\n",
       "      <td>foo</td>\n",
       "    </tr>\n",
       "  </tbody>\n",
       "</table>\n",
       "</div>"
      ],
      "text/plain": [
       "   a   b   c   d message\n",
       "0  1   2   3   4   hello\n",
       "1  5   6   7   8   world\n",
       "2  9  10  11  12     foo"
      ]
     },
     "execution_count": 89,
     "metadata": {},
     "output_type": "execute_result"
    }
   ],
   "source": [
    "pd.read_csv('ex2.csv', names=['a', 'b', 'c', 'd', 'message'])"
   ]
  },
  {
   "cell_type": "markdown",
   "id": "6ef24f9a-94f0-42d6-8366-5dfc51a5af13",
   "metadata": {},
   "source": [
    "In the above example, pandas creates a default integer index for each row of the data. If we want to let one of the columns in the csv become our index, we can specifically set it using the `index_col` parameter."
   ]
  },
  {
   "cell_type": "code",
   "execution_count": 93,
   "id": "43d9791a-dffe-41d6-89b4-d2291c06a36e",
   "metadata": {},
   "outputs": [
    {
     "data": {
      "text/html": [
       "<div>\n",
       "<style scoped>\n",
       "    .dataframe tbody tr th:only-of-type {\n",
       "        vertical-align: middle;\n",
       "    }\n",
       "\n",
       "    .dataframe tbody tr th {\n",
       "        vertical-align: top;\n",
       "    }\n",
       "\n",
       "    .dataframe thead th {\n",
       "        text-align: right;\n",
       "    }\n",
       "</style>\n",
       "<table border=\"1\" class=\"dataframe\">\n",
       "  <thead>\n",
       "    <tr style=\"text-align: right;\">\n",
       "      <th></th>\n",
       "      <th>a</th>\n",
       "      <th>b</th>\n",
       "      <th>c</th>\n",
       "      <th>d</th>\n",
       "    </tr>\n",
       "    <tr>\n",
       "      <th>message</th>\n",
       "      <th></th>\n",
       "      <th></th>\n",
       "      <th></th>\n",
       "      <th></th>\n",
       "    </tr>\n",
       "  </thead>\n",
       "  <tbody>\n",
       "    <tr>\n",
       "      <th>hello</th>\n",
       "      <td>1</td>\n",
       "      <td>2</td>\n",
       "      <td>3</td>\n",
       "      <td>4</td>\n",
       "    </tr>\n",
       "    <tr>\n",
       "      <th>world</th>\n",
       "      <td>5</td>\n",
       "      <td>6</td>\n",
       "      <td>7</td>\n",
       "      <td>8</td>\n",
       "    </tr>\n",
       "    <tr>\n",
       "      <th>foo</th>\n",
       "      <td>9</td>\n",
       "      <td>10</td>\n",
       "      <td>11</td>\n",
       "      <td>12</td>\n",
       "    </tr>\n",
       "  </tbody>\n",
       "</table>\n",
       "</div>"
      ],
      "text/plain": [
       "         a   b   c   d\n",
       "message               \n",
       "hello    1   2   3   4\n",
       "world    5   6   7   8\n",
       "foo      9  10  11  12"
      ]
     },
     "execution_count": 93,
     "metadata": {},
     "output_type": "execute_result"
    }
   ],
   "source": [
    "names = ['a', 'b', 'c', 'd', 'message']\n",
    "pd.read_csv('ex2.csv', names=names, index_col='message')"
   ]
  },
  {
   "cell_type": "markdown",
   "id": "b80784fa-ed6a-40fb-913e-013edaf67c0c",
   "metadata": {},
   "source": [
    "Other files can also have other delimeters, using whitespace or other patterns to separate the fields."
   ]
  },
  {
   "cell_type": "code",
   "execution_count": 95,
   "id": "50186515-7184-4faf-9a43-3fb00c3d9bca",
   "metadata": {
    "tags": []
   },
   "outputs": [
    {
     "name": "stderr",
     "output_type": "stream",
     "text": [
      "'cat' is not recognized as an internal or external command,\n",
      "operable program or batch file.\n"
     ]
    }
   ],
   "source": [
    "!cat ex3.txt"
   ]
  },
  {
   "cell_type": "markdown",
   "id": "1b3fabac-0f09-4b99-b98e-de4aa78b1e3f",
   "metadata": {},
   "source": [
    "In this case the file is separated by tabs. We can specify the delimeter used in the file using the `sep` or `delimiter` parameter."
   ]
  },
  {
   "cell_type": "code",
   "execution_count": 97,
   "id": "edc4c09e-9251-4042-9c24-f2f8be086901",
   "metadata": {
    "tags": []
   },
   "outputs": [
    {
     "data": {
      "text/html": [
       "<div>\n",
       "<style scoped>\n",
       "    .dataframe tbody tr th:only-of-type {\n",
       "        vertical-align: middle;\n",
       "    }\n",
       "\n",
       "    .dataframe tbody tr th {\n",
       "        vertical-align: top;\n",
       "    }\n",
       "\n",
       "    .dataframe thead th {\n",
       "        text-align: right;\n",
       "    }\n",
       "</style>\n",
       "<table border=\"1\" class=\"dataframe\">\n",
       "  <thead>\n",
       "    <tr style=\"text-align: right;\">\n",
       "      <th></th>\n",
       "      <th>A</th>\n",
       "      <th>B</th>\n",
       "      <th>C</th>\n",
       "    </tr>\n",
       "  </thead>\n",
       "  <tbody>\n",
       "    <tr>\n",
       "      <th>aaa</th>\n",
       "      <td>0.262025</td>\n",
       "      <td>0.158684</td>\n",
       "      <td>0.278127</td>\n",
       "    </tr>\n",
       "    <tr>\n",
       "      <th>bbb</th>\n",
       "      <td>0.459317</td>\n",
       "      <td>0.321001</td>\n",
       "      <td>0.518393</td>\n",
       "    </tr>\n",
       "    <tr>\n",
       "      <th>ccc</th>\n",
       "      <td>0.261943</td>\n",
       "      <td>0.976085</td>\n",
       "      <td>0.732815</td>\n",
       "    </tr>\n",
       "    <tr>\n",
       "      <th>ddd</th>\n",
       "      <td>0.115274</td>\n",
       "      <td>0.386275</td>\n",
       "      <td>0.628501</td>\n",
       "    </tr>\n",
       "  </tbody>\n",
       "</table>\n",
       "</div>"
      ],
      "text/plain": [
       "            A         B         C\n",
       "aaa  0.262025  0.158684  0.278127\n",
       "bbb  0.459317  0.321001  0.518393\n",
       "ccc  0.261943  0.976085  0.732815\n",
       "ddd  0.115274  0.386275  0.628501"
      ]
     },
     "execution_count": 97,
     "metadata": {},
     "output_type": "execute_result"
    }
   ],
   "source": [
    "pd.read_csv('ex3.txt', sep='\\t')"
   ]
  },
  {
   "cell_type": "markdown",
   "id": "6571e834-4b16-435a-94a8-218541703b2b",
   "metadata": {},
   "source": [
    "The `sep` parameter can also be specified using a regular expression syntax."
   ]
  },
  {
   "cell_type": "markdown",
   "id": "7c2f0f36-20d6-41e9-9f8c-eb22550a5af7",
   "metadata": {},
   "source": [
    "The file parsing function also has additional parameters which lets you handle a wide variety of exception file formats. For example, we can skip specific rows in the text file using the `skiprows` parameter."
   ]
  },
  {
   "cell_type": "code",
   "execution_count": null,
   "id": "8ce278b3-fece-4f1f-b312-aa37733afd95",
   "metadata": {
    "tags": []
   },
   "outputs": [],
   "source": [
    "!cat data/ex4.csv"
   ]
  },
  {
   "cell_type": "code",
   "execution_count": 99,
   "id": "c911261a-ce5d-4610-a133-8db797b9a4d3",
   "metadata": {
    "tags": []
   },
   "outputs": [
    {
     "data": {
      "text/html": [
       "<div>\n",
       "<style scoped>\n",
       "    .dataframe tbody tr th:only-of-type {\n",
       "        vertical-align: middle;\n",
       "    }\n",
       "\n",
       "    .dataframe tbody tr th {\n",
       "        vertical-align: top;\n",
       "    }\n",
       "\n",
       "    .dataframe thead th {\n",
       "        text-align: right;\n",
       "    }\n",
       "</style>\n",
       "<table border=\"1\" class=\"dataframe\">\n",
       "  <thead>\n",
       "    <tr style=\"text-align: right;\">\n",
       "      <th></th>\n",
       "      <th>a</th>\n",
       "      <th>b</th>\n",
       "      <th>c</th>\n",
       "      <th>d</th>\n",
       "      <th>message</th>\n",
       "    </tr>\n",
       "  </thead>\n",
       "  <tbody>\n",
       "    <tr>\n",
       "      <th>0</th>\n",
       "      <td>1</td>\n",
       "      <td>2</td>\n",
       "      <td>3</td>\n",
       "      <td>4</td>\n",
       "      <td>hello</td>\n",
       "    </tr>\n",
       "    <tr>\n",
       "      <th>1</th>\n",
       "      <td>5</td>\n",
       "      <td>6</td>\n",
       "      <td>7</td>\n",
       "      <td>8</td>\n",
       "      <td>world</td>\n",
       "    </tr>\n",
       "    <tr>\n",
       "      <th>2</th>\n",
       "      <td>9</td>\n",
       "      <td>10</td>\n",
       "      <td>11</td>\n",
       "      <td>12</td>\n",
       "      <td>foo</td>\n",
       "    </tr>\n",
       "  </tbody>\n",
       "</table>\n",
       "</div>"
      ],
      "text/plain": [
       "   a   b   c   d message\n",
       "0  1   2   3   4   hello\n",
       "1  5   6   7   8   world\n",
       "2  9  10  11  12     foo"
      ]
     },
     "execution_count": 99,
     "metadata": {},
     "output_type": "execute_result"
    }
   ],
   "source": [
    "pd.read_csv('ex4.csv', skiprows=[0, 2, 3])"
   ]
  },
  {
   "cell_type": "markdown",
   "id": "0a3a44b1-a50e-4379-99a9-7de6e6ab0606",
   "metadata": {},
   "source": [
    "### Parsing null values"
   ]
  },
  {
   "cell_type": "markdown",
   "id": "7ed7af2a-a09c-428d-8085-a0fe8ea2349f",
   "metadata": {},
   "source": [
    "pandas also handles missing values automatically if it recognizes an empty string or a denoted *sentinel* (placeholder) value. By default, pandas uses a set of commonly occurring sentinels, such as `NA` and `NULL`:"
   ]
  },
  {
   "cell_type": "code",
   "execution_count": null,
   "id": "249e4be9-fd2b-4a6c-8960-d92a7e7205e4",
   "metadata": {
    "tags": []
   },
   "outputs": [],
   "source": [
    "!cat data/ex5.csv"
   ]
  },
  {
   "cell_type": "markdown",
   "id": "bdb64321-4a06-457e-832b-db261db9c0c1",
   "metadata": {},
   "source": [
    "Here are the list of the default null sentinels recognized by pandas:"
   ]
  },
  {
   "cell_type": "code",
   "execution_count": 101,
   "id": "23b03f04-2ea9-4d4f-b0c0-50333e538b3f",
   "metadata": {
    "tags": []
   },
   "outputs": [
    {
     "data": {
      "text/plain": [
       "{'',\n",
       " '#N/A',\n",
       " '#N/A N/A',\n",
       " '#NA',\n",
       " '-1.#IND',\n",
       " '-1.#QNAN',\n",
       " '-NaN',\n",
       " '-nan',\n",
       " '1.#IND',\n",
       " '1.#QNAN',\n",
       " '<NA>',\n",
       " 'N/A',\n",
       " 'NA',\n",
       " 'NULL',\n",
       " 'NaN',\n",
       " 'None',\n",
       " 'n/a',\n",
       " 'nan',\n",
       " 'null'}"
      ]
     },
     "execution_count": 101,
     "metadata": {},
     "output_type": "execute_result"
    }
   ],
   "source": [
    "pd._libs.parsers.STR_NA_VALUES"
   ]
  },
  {
   "cell_type": "code",
   "execution_count": 103,
   "id": "20124347-b9c3-4c1b-a6f3-e67206fc2613",
   "metadata": {
    "tags": []
   },
   "outputs": [
    {
     "data": {
      "text/html": [
       "<div>\n",
       "<style scoped>\n",
       "    .dataframe tbody tr th:only-of-type {\n",
       "        vertical-align: middle;\n",
       "    }\n",
       "\n",
       "    .dataframe tbody tr th {\n",
       "        vertical-align: top;\n",
       "    }\n",
       "\n",
       "    .dataframe thead th {\n",
       "        text-align: right;\n",
       "    }\n",
       "</style>\n",
       "<table border=\"1\" class=\"dataframe\">\n",
       "  <thead>\n",
       "    <tr style=\"text-align: right;\">\n",
       "      <th></th>\n",
       "      <th>something</th>\n",
       "      <th>a</th>\n",
       "      <th>b</th>\n",
       "      <th>c</th>\n",
       "      <th>d</th>\n",
       "      <th>message</th>\n",
       "    </tr>\n",
       "  </thead>\n",
       "  <tbody>\n",
       "    <tr>\n",
       "      <th>0</th>\n",
       "      <td>one</td>\n",
       "      <td>1</td>\n",
       "      <td>2</td>\n",
       "      <td>3.0</td>\n",
       "      <td>4</td>\n",
       "      <td>NaN</td>\n",
       "    </tr>\n",
       "    <tr>\n",
       "      <th>1</th>\n",
       "      <td>two</td>\n",
       "      <td>5</td>\n",
       "      <td>6</td>\n",
       "      <td>NaN</td>\n",
       "      <td>8</td>\n",
       "      <td>world</td>\n",
       "    </tr>\n",
       "    <tr>\n",
       "      <th>2</th>\n",
       "      <td>three</td>\n",
       "      <td>9</td>\n",
       "      <td>10</td>\n",
       "      <td>11.0</td>\n",
       "      <td>12</td>\n",
       "      <td>foo</td>\n",
       "    </tr>\n",
       "  </tbody>\n",
       "</table>\n",
       "</div>"
      ],
      "text/plain": [
       "  something  a   b     c   d message\n",
       "0       one  1   2   3.0   4     NaN\n",
       "1       two  5   6   NaN   8   world\n",
       "2     three  9  10  11.0  12     foo"
      ]
     },
     "execution_count": 103,
     "metadata": {},
     "output_type": "execute_result"
    }
   ],
   "source": [
    "pd.read_csv('ex5.csv')"
   ]
  },
  {
   "cell_type": "markdown",
   "id": "6b6cfed8-99f6-45ac-a4ec-99562d11b3a2",
   "metadata": {},
   "source": [
    "We can use `pd.isna` to check which values in the dataframe are null (or `NaN`)."
   ]
  },
  {
   "cell_type": "code",
   "execution_count": 105,
   "id": "9b491a31-b15e-4890-a297-f3b26f0d2e1a",
   "metadata": {
    "tags": []
   },
   "outputs": [
    {
     "data": {
      "text/html": [
       "<div>\n",
       "<style scoped>\n",
       "    .dataframe tbody tr th:only-of-type {\n",
       "        vertical-align: middle;\n",
       "    }\n",
       "\n",
       "    .dataframe tbody tr th {\n",
       "        vertical-align: top;\n",
       "    }\n",
       "\n",
       "    .dataframe thead th {\n",
       "        text-align: right;\n",
       "    }\n",
       "</style>\n",
       "<table border=\"1\" class=\"dataframe\">\n",
       "  <thead>\n",
       "    <tr style=\"text-align: right;\">\n",
       "      <th></th>\n",
       "      <th>something</th>\n",
       "      <th>a</th>\n",
       "      <th>b</th>\n",
       "      <th>c</th>\n",
       "      <th>d</th>\n",
       "      <th>message</th>\n",
       "    </tr>\n",
       "  </thead>\n",
       "  <tbody>\n",
       "    <tr>\n",
       "      <th>0</th>\n",
       "      <td>False</td>\n",
       "      <td>False</td>\n",
       "      <td>False</td>\n",
       "      <td>False</td>\n",
       "      <td>False</td>\n",
       "      <td>True</td>\n",
       "    </tr>\n",
       "    <tr>\n",
       "      <th>1</th>\n",
       "      <td>False</td>\n",
       "      <td>False</td>\n",
       "      <td>False</td>\n",
       "      <td>True</td>\n",
       "      <td>False</td>\n",
       "      <td>False</td>\n",
       "    </tr>\n",
       "    <tr>\n",
       "      <th>2</th>\n",
       "      <td>False</td>\n",
       "      <td>False</td>\n",
       "      <td>False</td>\n",
       "      <td>False</td>\n",
       "      <td>False</td>\n",
       "      <td>False</td>\n",
       "    </tr>\n",
       "  </tbody>\n",
       "</table>\n",
       "</div>"
      ],
      "text/plain": [
       "   something      a      b      c      d  message\n",
       "0      False  False  False  False  False     True\n",
       "1      False  False  False   True  False    False\n",
       "2      False  False  False  False  False    False"
      ]
     },
     "execution_count": 105,
     "metadata": {},
     "output_type": "execute_result"
    }
   ],
   "source": [
    "pd.isna(pd.read_csv('ex5.csv'))"
   ]
  },
  {
   "cell_type": "markdown",
   "id": "b253c176-a484-4e30-8cc2-ad338a3bbd8e",
   "metadata": {},
   "source": [
    "If you want to disable the default sentinel values being used by pandas, you can specify the `keep_default_na` to be `False`."
   ]
  },
  {
   "cell_type": "code",
   "execution_count": 107,
   "id": "32dcba9e-aadb-498b-a52a-bdb079705bbd",
   "metadata": {
    "tags": []
   },
   "outputs": [
    {
     "data": {
      "text/html": [
       "<div>\n",
       "<style scoped>\n",
       "    .dataframe tbody tr th:only-of-type {\n",
       "        vertical-align: middle;\n",
       "    }\n",
       "\n",
       "    .dataframe tbody tr th {\n",
       "        vertical-align: top;\n",
       "    }\n",
       "\n",
       "    .dataframe thead th {\n",
       "        text-align: right;\n",
       "    }\n",
       "</style>\n",
       "<table border=\"1\" class=\"dataframe\">\n",
       "  <thead>\n",
       "    <tr style=\"text-align: right;\">\n",
       "      <th></th>\n",
       "      <th>something</th>\n",
       "      <th>a</th>\n",
       "      <th>b</th>\n",
       "      <th>c</th>\n",
       "      <th>d</th>\n",
       "      <th>message</th>\n",
       "    </tr>\n",
       "  </thead>\n",
       "  <tbody>\n",
       "    <tr>\n",
       "      <th>0</th>\n",
       "      <td>one</td>\n",
       "      <td>1</td>\n",
       "      <td>2</td>\n",
       "      <td>3</td>\n",
       "      <td>4</td>\n",
       "      <td>NA</td>\n",
       "    </tr>\n",
       "    <tr>\n",
       "      <th>1</th>\n",
       "      <td>two</td>\n",
       "      <td>5</td>\n",
       "      <td>6</td>\n",
       "      <td></td>\n",
       "      <td>8</td>\n",
       "      <td>world</td>\n",
       "    </tr>\n",
       "    <tr>\n",
       "      <th>2</th>\n",
       "      <td>three</td>\n",
       "      <td>9</td>\n",
       "      <td>10</td>\n",
       "      <td>11</td>\n",
       "      <td>12</td>\n",
       "      <td>foo</td>\n",
       "    </tr>\n",
       "  </tbody>\n",
       "</table>\n",
       "</div>"
      ],
      "text/plain": [
       "  something  a   b   c   d message\n",
       "0       one  1   2   3   4      NA\n",
       "1       two  5   6       8   world\n",
       "2     three  9  10  11  12     foo"
      ]
     },
     "execution_count": 107,
     "metadata": {},
     "output_type": "execute_result"
    }
   ],
   "source": [
    "pd.read_csv('ex5.csv', keep_default_na=False)"
   ]
  },
  {
   "cell_type": "markdown",
   "id": "16985039-e4c1-4008-8c83-9f9ce7114382",
   "metadata": {},
   "source": [
    "Then add using the `na_values` parameter the sentinel null values that you want to set as `NaN`."
   ]
  },
  {
   "cell_type": "code",
   "execution_count": 109,
   "id": "81544006-1498-476a-a6f3-fc46e0c148f7",
   "metadata": {
    "tags": []
   },
   "outputs": [
    {
     "data": {
      "text/html": [
       "<div>\n",
       "<style scoped>\n",
       "    .dataframe tbody tr th:only-of-type {\n",
       "        vertical-align: middle;\n",
       "    }\n",
       "\n",
       "    .dataframe tbody tr th {\n",
       "        vertical-align: top;\n",
       "    }\n",
       "\n",
       "    .dataframe thead th {\n",
       "        text-align: right;\n",
       "    }\n",
       "</style>\n",
       "<table border=\"1\" class=\"dataframe\">\n",
       "  <thead>\n",
       "    <tr style=\"text-align: right;\">\n",
       "      <th></th>\n",
       "      <th>something</th>\n",
       "      <th>a</th>\n",
       "      <th>b</th>\n",
       "      <th>c</th>\n",
       "      <th>d</th>\n",
       "      <th>message</th>\n",
       "    </tr>\n",
       "  </thead>\n",
       "  <tbody>\n",
       "    <tr>\n",
       "      <th>0</th>\n",
       "      <td>one</td>\n",
       "      <td>1</td>\n",
       "      <td>2</td>\n",
       "      <td>3</td>\n",
       "      <td>4</td>\n",
       "      <td>NaN</td>\n",
       "    </tr>\n",
       "    <tr>\n",
       "      <th>1</th>\n",
       "      <td>two</td>\n",
       "      <td>5</td>\n",
       "      <td>6</td>\n",
       "      <td></td>\n",
       "      <td>8</td>\n",
       "      <td>world</td>\n",
       "    </tr>\n",
       "    <tr>\n",
       "      <th>2</th>\n",
       "      <td>three</td>\n",
       "      <td>9</td>\n",
       "      <td>10</td>\n",
       "      <td>11</td>\n",
       "      <td>12</td>\n",
       "      <td>foo</td>\n",
       "    </tr>\n",
       "  </tbody>\n",
       "</table>\n",
       "</div>"
      ],
      "text/plain": [
       "  something  a   b   c   d message\n",
       "0       one  1   2   3   4     NaN\n",
       "1       two  5   6       8   world\n",
       "2     three  9  10  11  12     foo"
      ]
     },
     "execution_count": 109,
     "metadata": {},
     "output_type": "execute_result"
    }
   ],
   "source": [
    "pd.read_csv('ex5.csv', keep_default_na=False, na_values=['NA'])"
   ]
  },
  {
   "cell_type": "markdown",
   "id": "02ca1aa7-4135-48ab-be31-884dc3bf8b2c",
   "metadata": {},
   "source": [
    "You can also set different null sentinels for each column using a dictionary"
   ]
  },
  {
   "cell_type": "code",
   "execution_count": null,
   "id": "25994fb5-b21c-4783-96d9-b2e8151efd1c",
   "metadata": {
    "tags": []
   },
   "outputs": [],
   "source": [
    "sentinels = {'message': ['foo', 'NA'], 'something': ['two']}\n",
    "pd.read_csv('data/ex5.csv', keep_default_na=False, na_values=sentinels)"
   ]
  },
  {
   "cell_type": "markdown",
   "id": "f5dca935-c5f2-434e-97e7-02b3ea21cb8c",
   "metadata": {},
   "source": [
    "### Reading text files in pieces"
   ]
  },
  {
   "cell_type": "markdown",
   "id": "2f9314a5-6388-4a9f-8458-0d9f588b3155",
   "metadata": {},
   "source": [
    "If we are given a large text file, pandas has ooptions avaiable to read it in smaller pieces."
   ]
  },
  {
   "cell_type": "code",
   "execution_count": 123,
   "id": "586fb380-46f8-44c0-a9f6-43cd0cd2bfbd",
   "metadata": {
    "tags": []
   },
   "outputs": [
    {
     "data": {
      "text/html": [
       "<div>\n",
       "<style scoped>\n",
       "    .dataframe tbody tr th:only-of-type {\n",
       "        vertical-align: middle;\n",
       "    }\n",
       "\n",
       "    .dataframe tbody tr th {\n",
       "        vertical-align: top;\n",
       "    }\n",
       "\n",
       "    .dataframe thead th {\n",
       "        text-align: right;\n",
       "    }\n",
       "</style>\n",
       "<table border=\"1\" class=\"dataframe\">\n",
       "  <thead>\n",
       "    <tr style=\"text-align: right;\">\n",
       "      <th></th>\n",
       "      <th>one</th>\n",
       "      <th>two</th>\n",
       "      <th>three</th>\n",
       "      <th>four</th>\n",
       "      <th>key</th>\n",
       "    </tr>\n",
       "  </thead>\n",
       "  <tbody>\n",
       "    <tr>\n",
       "      <th>0</th>\n",
       "      <td>0.467976</td>\n",
       "      <td>-0.038649</td>\n",
       "      <td>-0.295344</td>\n",
       "      <td>-1.824726</td>\n",
       "      <td>L</td>\n",
       "    </tr>\n",
       "    <tr>\n",
       "      <th>1</th>\n",
       "      <td>-0.358893</td>\n",
       "      <td>1.404453</td>\n",
       "      <td>0.704965</td>\n",
       "      <td>-0.200638</td>\n",
       "      <td>B</td>\n",
       "    </tr>\n",
       "    <tr>\n",
       "      <th>2</th>\n",
       "      <td>-0.501840</td>\n",
       "      <td>0.659254</td>\n",
       "      <td>-0.421691</td>\n",
       "      <td>-0.057688</td>\n",
       "      <td>G</td>\n",
       "    </tr>\n",
       "    <tr>\n",
       "      <th>3</th>\n",
       "      <td>0.204886</td>\n",
       "      <td>1.074134</td>\n",
       "      <td>1.388361</td>\n",
       "      <td>-0.982404</td>\n",
       "      <td>R</td>\n",
       "    </tr>\n",
       "    <tr>\n",
       "      <th>4</th>\n",
       "      <td>0.354628</td>\n",
       "      <td>-0.133116</td>\n",
       "      <td>0.283763</td>\n",
       "      <td>-0.837063</td>\n",
       "      <td>Q</td>\n",
       "    </tr>\n",
       "    <tr>\n",
       "      <th>...</th>\n",
       "      <td>...</td>\n",
       "      <td>...</td>\n",
       "      <td>...</td>\n",
       "      <td>...</td>\n",
       "      <td>...</td>\n",
       "    </tr>\n",
       "    <tr>\n",
       "      <th>9995</th>\n",
       "      <td>2.311896</td>\n",
       "      <td>-0.417070</td>\n",
       "      <td>-1.409599</td>\n",
       "      <td>-0.515821</td>\n",
       "      <td>L</td>\n",
       "    </tr>\n",
       "    <tr>\n",
       "      <th>9996</th>\n",
       "      <td>-0.479893</td>\n",
       "      <td>-0.650419</td>\n",
       "      <td>0.745152</td>\n",
       "      <td>-0.646038</td>\n",
       "      <td>E</td>\n",
       "    </tr>\n",
       "    <tr>\n",
       "      <th>9997</th>\n",
       "      <td>0.523331</td>\n",
       "      <td>0.787112</td>\n",
       "      <td>0.486066</td>\n",
       "      <td>1.093156</td>\n",
       "      <td>K</td>\n",
       "    </tr>\n",
       "    <tr>\n",
       "      <th>9998</th>\n",
       "      <td>-0.362559</td>\n",
       "      <td>0.598894</td>\n",
       "      <td>-1.843201</td>\n",
       "      <td>0.887292</td>\n",
       "      <td>G</td>\n",
       "    </tr>\n",
       "    <tr>\n",
       "      <th>9999</th>\n",
       "      <td>-0.096376</td>\n",
       "      <td>-1.012999</td>\n",
       "      <td>-0.657431</td>\n",
       "      <td>-0.573315</td>\n",
       "      <td>0</td>\n",
       "    </tr>\n",
       "  </tbody>\n",
       "</table>\n",
       "<p>10000 rows × 5 columns</p>\n",
       "</div>"
      ],
      "text/plain": [
       "           one       two     three      four key\n",
       "0     0.467976 -0.038649 -0.295344 -1.824726   L\n",
       "1    -0.358893  1.404453  0.704965 -0.200638   B\n",
       "2    -0.501840  0.659254 -0.421691 -0.057688   G\n",
       "3     0.204886  1.074134  1.388361 -0.982404   R\n",
       "4     0.354628 -0.133116  0.283763 -0.837063   Q\n",
       "...        ...       ...       ...       ...  ..\n",
       "9995  2.311896 -0.417070 -1.409599 -0.515821   L\n",
       "9996 -0.479893 -0.650419  0.745152 -0.646038   E\n",
       "9997  0.523331  0.787112  0.486066  1.093156   K\n",
       "9998 -0.362559  0.598894 -1.843201  0.887292   G\n",
       "9999 -0.096376 -1.012999 -0.657431 -0.573315   0\n",
       "\n",
       "[10000 rows x 5 columns]"
      ]
     },
     "execution_count": 123,
     "metadata": {},
     "output_type": "execute_result"
    }
   ],
   "source": [
    "df = pd.read_csv('ex6.csv')\n",
    "df"
   ]
  },
  {
   "cell_type": "markdown",
   "id": "294f0e5c-5e49-4d0c-aa49-815e060daba0",
   "metadata": {},
   "source": [
    "We can read a small number of rows by specifying `nrows`"
   ]
  },
  {
   "cell_type": "code",
   "execution_count": 111,
   "id": "cf5b8966-fc71-45ed-a4e9-9acbeb897f3c",
   "metadata": {
    "tags": []
   },
   "outputs": [
    {
     "data": {
      "text/html": [
       "<div>\n",
       "<style scoped>\n",
       "    .dataframe tbody tr th:only-of-type {\n",
       "        vertical-align: middle;\n",
       "    }\n",
       "\n",
       "    .dataframe tbody tr th {\n",
       "        vertical-align: top;\n",
       "    }\n",
       "\n",
       "    .dataframe thead th {\n",
       "        text-align: right;\n",
       "    }\n",
       "</style>\n",
       "<table border=\"1\" class=\"dataframe\">\n",
       "  <thead>\n",
       "    <tr style=\"text-align: right;\">\n",
       "      <th></th>\n",
       "      <th>one</th>\n",
       "      <th>two</th>\n",
       "      <th>three</th>\n",
       "      <th>four</th>\n",
       "      <th>key</th>\n",
       "    </tr>\n",
       "  </thead>\n",
       "  <tbody>\n",
       "    <tr>\n",
       "      <th>0</th>\n",
       "      <td>0.467976</td>\n",
       "      <td>-0.038649</td>\n",
       "      <td>-0.295344</td>\n",
       "      <td>-1.824726</td>\n",
       "      <td>L</td>\n",
       "    </tr>\n",
       "    <tr>\n",
       "      <th>1</th>\n",
       "      <td>-0.358893</td>\n",
       "      <td>1.404453</td>\n",
       "      <td>0.704965</td>\n",
       "      <td>-0.200638</td>\n",
       "      <td>B</td>\n",
       "    </tr>\n",
       "    <tr>\n",
       "      <th>2</th>\n",
       "      <td>-0.501840</td>\n",
       "      <td>0.659254</td>\n",
       "      <td>-0.421691</td>\n",
       "      <td>-0.057688</td>\n",
       "      <td>G</td>\n",
       "    </tr>\n",
       "    <tr>\n",
       "      <th>3</th>\n",
       "      <td>0.204886</td>\n",
       "      <td>1.074134</td>\n",
       "      <td>1.388361</td>\n",
       "      <td>-0.982404</td>\n",
       "      <td>R</td>\n",
       "    </tr>\n",
       "    <tr>\n",
       "      <th>4</th>\n",
       "      <td>0.354628</td>\n",
       "      <td>-0.133116</td>\n",
       "      <td>0.283763</td>\n",
       "      <td>-0.837063</td>\n",
       "      <td>Q</td>\n",
       "    </tr>\n",
       "  </tbody>\n",
       "</table>\n",
       "</div>"
      ],
      "text/plain": [
       "        one       two     three      four key\n",
       "0  0.467976 -0.038649 -0.295344 -1.824726   L\n",
       "1 -0.358893  1.404453  0.704965 -0.200638   B\n",
       "2 -0.501840  0.659254 -0.421691 -0.057688   G\n",
       "3  0.204886  1.074134  1.388361 -0.982404   R\n",
       "4  0.354628 -0.133116  0.283763 -0.837063   Q"
      ]
     },
     "execution_count": 111,
     "metadata": {},
     "output_type": "execute_result"
    }
   ],
   "source": [
    "pd.read_csv('ex6.csv', nrows=5)"
   ]
  },
  {
   "cell_type": "markdown",
   "id": "6a285089-2de5-439d-9e18-abd3067e1c95",
   "metadata": {},
   "source": [
    "We can also read the file by chunk through specification of the `chunksize` parameter:"
   ]
  },
  {
   "cell_type": "code",
   "execution_count": 113,
   "id": "cb16c863-2c62-49d9-a875-fc69f914e977",
   "metadata": {
    "tags": []
   },
   "outputs": [
    {
     "data": {
      "text/plain": [
       "<pandas.io.parsers.readers.TextFileReader at 0x2476dde8d10>"
      ]
     },
     "execution_count": 113,
     "metadata": {},
     "output_type": "execute_result"
    }
   ],
   "source": [
    "chunker = pd.read_csv('ex6.csv', chunksize=1000)\n",
    "chunker"
   ]
  },
  {
   "cell_type": "code",
   "execution_count": 115,
   "id": "e51c2504-b118-441b-8806-ca6cb478c90f",
   "metadata": {
    "tags": []
   },
   "outputs": [
    {
     "data": {
      "text/plain": [
       "pandas.io.parsers.readers.TextFileReader"
      ]
     },
     "execution_count": 115,
     "metadata": {},
     "output_type": "execute_result"
    }
   ],
   "source": [
    "type(chunker)"
   ]
  },
  {
   "cell_type": "markdown",
   "id": "60146ac7-29ec-4e59-a93f-e24c5d397fa6",
   "metadata": {},
   "source": [
    "This text file reader allows us to iterate the parts of the file according to the `chunksize`. For example, we can iterate to our data while aggregating the value counts in the `key` column."
   ]
  },
  {
   "cell_type": "code",
   "execution_count": 117,
   "id": "aeb3f004-69fb-4290-8abf-81e17363dd28",
   "metadata": {
    "tags": []
   },
   "outputs": [],
   "source": [
    "# Create text file reader with specified chunksize\n",
    "chunker = pd.read_csv('ex6.csv', chunksize=1000)\n",
    "\n",
    "# Iterate on the chunker while aggregating the result container\n",
    "total = pd.Series([], dtype='int64')\n",
    "for piece in chunker:\n",
    "    total = total.add(piece['key'].value_counts(), fill_value=0)"
   ]
  },
  {
   "cell_type": "code",
   "execution_count": 119,
   "id": "797ec623-4920-4e6c-93e8-b5ff8ddf829c",
   "metadata": {
    "tags": []
   },
   "outputs": [
    {
     "data": {
      "text/plain": [
       "key\n",
       "0    151.0\n",
       "1    146.0\n",
       "2    152.0\n",
       "3    162.0\n",
       "4    171.0\n",
       "5    157.0\n",
       "6    166.0\n",
       "7    164.0\n",
       "8    162.0\n",
       "9    150.0\n",
       "A    320.0\n",
       "B    302.0\n",
       "C    286.0\n",
       "D    320.0\n",
       "E    368.0\n",
       "F    335.0\n",
       "G    308.0\n",
       "H    330.0\n",
       "I    327.0\n",
       "J    337.0\n",
       "K    334.0\n",
       "L    346.0\n",
       "M    338.0\n",
       "N    306.0\n",
       "O    343.0\n",
       "P    324.0\n",
       "Q    340.0\n",
       "R    318.0\n",
       "S    308.0\n",
       "T    304.0\n",
       "U    326.0\n",
       "V    328.0\n",
       "W    305.0\n",
       "X    364.0\n",
       "Y    314.0\n",
       "Z    288.0\n",
       "dtype: float64"
      ]
     },
     "execution_count": 119,
     "metadata": {},
     "output_type": "execute_result"
    }
   ],
   "source": [
    "total"
   ]
  },
  {
   "cell_type": "markdown",
   "id": "32322294-89d3-40d4-ad51-7c81784de009",
   "metadata": {},
   "source": [
    "### Writing Data to a Text File"
   ]
  },
  {
   "cell_type": "markdown",
   "id": "5cee3569-9f34-4b8e-8005-9bf1c9625437",
   "metadata": {},
   "source": [
    "We can also export data to a delimited format."
   ]
  },
  {
   "cell_type": "code",
   "execution_count": 125,
   "id": "faffbf97-0b52-49e7-b63b-028dbdb29dfc",
   "metadata": {
    "tags": []
   },
   "outputs": [
    {
     "data": {
      "text/html": [
       "<div>\n",
       "<style scoped>\n",
       "    .dataframe tbody tr th:only-of-type {\n",
       "        vertical-align: middle;\n",
       "    }\n",
       "\n",
       "    .dataframe tbody tr th {\n",
       "        vertical-align: top;\n",
       "    }\n",
       "\n",
       "    .dataframe thead th {\n",
       "        text-align: right;\n",
       "    }\n",
       "</style>\n",
       "<table border=\"1\" class=\"dataframe\">\n",
       "  <thead>\n",
       "    <tr style=\"text-align: right;\">\n",
       "      <th></th>\n",
       "      <th>something</th>\n",
       "      <th>a</th>\n",
       "      <th>b</th>\n",
       "      <th>c</th>\n",
       "      <th>d</th>\n",
       "      <th>message</th>\n",
       "    </tr>\n",
       "  </thead>\n",
       "  <tbody>\n",
       "    <tr>\n",
       "      <th>0</th>\n",
       "      <td>one</td>\n",
       "      <td>1</td>\n",
       "      <td>2</td>\n",
       "      <td>3.0</td>\n",
       "      <td>4</td>\n",
       "      <td>NaN</td>\n",
       "    </tr>\n",
       "    <tr>\n",
       "      <th>1</th>\n",
       "      <td>two</td>\n",
       "      <td>5</td>\n",
       "      <td>6</td>\n",
       "      <td>NaN</td>\n",
       "      <td>8</td>\n",
       "      <td>world</td>\n",
       "    </tr>\n",
       "    <tr>\n",
       "      <th>2</th>\n",
       "      <td>three</td>\n",
       "      <td>9</td>\n",
       "      <td>10</td>\n",
       "      <td>11.0</td>\n",
       "      <td>12</td>\n",
       "      <td>foo</td>\n",
       "    </tr>\n",
       "  </tbody>\n",
       "</table>\n",
       "</div>"
      ],
      "text/plain": [
       "  something  a   b     c   d message\n",
       "0       one  1   2   3.0   4     NaN\n",
       "1       two  5   6   NaN   8   world\n",
       "2     three  9  10  11.0  12     foo"
      ]
     },
     "execution_count": 125,
     "metadata": {},
     "output_type": "execute_result"
    }
   ],
   "source": [
    "data = pd.read_csv('ex5.csv')\n",
    "data"
   ]
  },
  {
   "cell_type": "markdown",
   "id": "63e9be21-ae12-4ac8-9adf-0501e757e900",
   "metadata": {},
   "source": [
    "Using the `DataFrame`'s `to_csv` method, we can write the data to an output comma-separated file."
   ]
  },
  {
   "cell_type": "code",
   "execution_count": 127,
   "id": "dd350441-5e7e-4b36-bb43-2f1e05d41c17",
   "metadata": {},
   "outputs": [],
   "source": [
    "data.to_csv('out.csv')"
   ]
  },
  {
   "cell_type": "code",
   "execution_count": 131,
   "id": "b22b3b84-9888-4251-b4e0-c8e56b98b8c8",
   "metadata": {
    "tags": []
   },
   "outputs": [
    {
     "name": "stderr",
     "output_type": "stream",
     "text": [
      "'cat' is not recognized as an internal or external command,\n",
      "operable program or batch file.\n"
     ]
    }
   ],
   "source": [
    "!cat out.csv"
   ]
  },
  {
   "cell_type": "markdown",
   "id": "5eaff520-17c7-4b7d-bb11-9f9bb530e09e",
   "metadata": {},
   "source": [
    "We can also use other delimiters by specifying the `sep` parameter"
   ]
  },
  {
   "cell_type": "code",
   "execution_count": 133,
   "id": "d28fb309-c38d-478c-bc3e-5f2340957c93",
   "metadata": {
    "tags": []
   },
   "outputs": [],
   "source": [
    "data.to_csv('out.csv', sep='|')"
   ]
  },
  {
   "cell_type": "code",
   "execution_count": 135,
   "id": "a4c408ef-e168-4bff-9ef1-c0b495829b42",
   "metadata": {},
   "outputs": [
    {
     "name": "stderr",
     "output_type": "stream",
     "text": [
      "'cat' is not recognized as an internal or external command,\n",
      "operable program or batch file.\n"
     ]
    }
   ],
   "source": [
    "!cat out.csv"
   ]
  },
  {
   "cell_type": "markdown",
   "id": "9ad766ef-69ee-47de-9491-49c388b97820",
   "metadata": {},
   "source": [
    "Missing values appear as strings in the output, if we want to denote null values using other sentinel value, we can set the `na_rep` parameter."
   ]
  },
  {
   "cell_type": "code",
   "execution_count": 137,
   "id": "b783f7b0-7854-499f-b8ff-ec9688f39fb8",
   "metadata": {
    "tags": []
   },
   "outputs": [],
   "source": [
    "data.to_csv('out.csv', na_rep='NULL')"
   ]
  },
  {
   "cell_type": "code",
   "execution_count": 139,
   "id": "b36080c7-fb43-44c7-8fd9-0477101b5c0b",
   "metadata": {
    "tags": []
   },
   "outputs": [
    {
     "name": "stderr",
     "output_type": "stream",
     "text": [
      "'cat' is not recognized as an internal or external command,\n",
      "operable program or batch file.\n"
     ]
    }
   ],
   "source": [
    "!cat out.csv"
   ]
  },
  {
   "cell_type": "markdown",
   "id": "52c68d4e-fc05-40f2-a904-c469b1c5f454",
   "metadata": {},
   "source": [
    "We can also opt to not include the row and column index by specifying the `index` and `header` parameter respectively."
   ]
  },
  {
   "cell_type": "code",
   "execution_count": 141,
   "id": "69f0f4f3-43d8-4ac0-91a2-a896640e7baf",
   "metadata": {
    "tags": []
   },
   "outputs": [],
   "source": [
    "data.to_csv('out.csv', index=False, header=False)"
   ]
  },
  {
   "cell_type": "code",
   "execution_count": 143,
   "id": "1a5ec5f9-5989-4251-a545-6b96f77f06c6",
   "metadata": {
    "tags": []
   },
   "outputs": [
    {
     "name": "stderr",
     "output_type": "stream",
     "text": [
      "'cat' is not recognized as an internal or external command,\n",
      "operable program or batch file.\n"
     ]
    }
   ],
   "source": [
    "!cat out.csv"
   ]
  },
  {
   "cell_type": "markdown",
   "id": "a6129f16-e3e8-4188-b5bf-38eaa175f9b3",
   "metadata": {},
   "source": [
    "We can also write a subset of columns in the order of your choosing"
   ]
  },
  {
   "cell_type": "code",
   "execution_count": 145,
   "id": "61390f71-7425-4c0b-bf41-10ee011364da",
   "metadata": {
    "tags": []
   },
   "outputs": [],
   "source": [
    "data.to_csv('out.csv', index=False, columns=['a', 'b', 'c'])"
   ]
  },
  {
   "cell_type": "code",
   "execution_count": 147,
   "id": "488bc136-c3d1-4e7c-a471-c7111fabadfe",
   "metadata": {
    "tags": []
   },
   "outputs": [
    {
     "name": "stderr",
     "output_type": "stream",
     "text": [
      "'cat' is not recognized as an internal or external command,\n",
      "operable program or batch file.\n"
     ]
    }
   ],
   "source": [
    "!cat out.csv"
   ]
  },
  {
   "cell_type": "markdown",
   "id": "f4a96b6e-f58a-4d6a-8356-59567d8fe695",
   "metadata": {},
   "source": [
    "We can set the write `mode` parameter if we want to instead append values to the text file."
   ]
  },
  {
   "cell_type": "code",
   "execution_count": 149,
   "id": "00246a96-a52e-4fff-95d8-11b7645c5f10",
   "metadata": {
    "tags": []
   },
   "outputs": [],
   "source": [
    "data.to_csv('out.csv', index=False, columns=['a', 'b', 'c'], mode='a',\n",
    "            header=False)"
   ]
  },
  {
   "cell_type": "code",
   "execution_count": 151,
   "id": "32898a6b-1093-470a-8a06-2418179eb6b6",
   "metadata": {
    "tags": []
   },
   "outputs": [
    {
     "name": "stderr",
     "output_type": "stream",
     "text": [
      "'cat' is not recognized as an internal or external command,\n",
      "operable program or batch file.\n"
     ]
    }
   ],
   "source": [
    "!cat out.csv"
   ]
  },
  {
   "cell_type": "markdown",
   "id": "19d1fc6f-3ccc-43a1-8e37-3ba5a0ba94b6",
   "metadata": {},
   "source": [
    "### Binary Data Formats"
   ]
  },
  {
   "cell_type": "markdown",
   "id": "c9df762f-328f-454a-a344-8077052ab16b",
   "metadata": {},
   "source": [
    "We can also serialize a data frame in `pickle` format using pandas built in `to_pickle` method."
   ]
  },
  {
   "cell_type": "code",
   "execution_count": 153,
   "id": "f519928b-052e-49cf-b705-2900c66e2aaa",
   "metadata": {
    "tags": []
   },
   "outputs": [
    {
     "data": {
      "text/html": [
       "<div>\n",
       "<style scoped>\n",
       "    .dataframe tbody tr th:only-of-type {\n",
       "        vertical-align: middle;\n",
       "    }\n",
       "\n",
       "    .dataframe tbody tr th {\n",
       "        vertical-align: top;\n",
       "    }\n",
       "\n",
       "    .dataframe thead th {\n",
       "        text-align: right;\n",
       "    }\n",
       "</style>\n",
       "<table border=\"1\" class=\"dataframe\">\n",
       "  <thead>\n",
       "    <tr style=\"text-align: right;\">\n",
       "      <th></th>\n",
       "      <th>a</th>\n",
       "      <th>b</th>\n",
       "      <th>c</th>\n",
       "      <th>d</th>\n",
       "      <th>message</th>\n",
       "    </tr>\n",
       "  </thead>\n",
       "  <tbody>\n",
       "    <tr>\n",
       "      <th>0</th>\n",
       "      <td>1</td>\n",
       "      <td>2</td>\n",
       "      <td>3</td>\n",
       "      <td>4</td>\n",
       "      <td>hello</td>\n",
       "    </tr>\n",
       "    <tr>\n",
       "      <th>1</th>\n",
       "      <td>5</td>\n",
       "      <td>6</td>\n",
       "      <td>7</td>\n",
       "      <td>8</td>\n",
       "      <td>world</td>\n",
       "    </tr>\n",
       "    <tr>\n",
       "      <th>2</th>\n",
       "      <td>9</td>\n",
       "      <td>10</td>\n",
       "      <td>11</td>\n",
       "      <td>12</td>\n",
       "      <td>foo</td>\n",
       "    </tr>\n",
       "  </tbody>\n",
       "</table>\n",
       "</div>"
      ],
      "text/plain": [
       "   a   b   c   d message\n",
       "0  1   2   3   4   hello\n",
       "1  5   6   7   8   world\n",
       "2  9  10  11  12     foo"
      ]
     },
     "execution_count": 153,
     "metadata": {},
     "output_type": "execute_result"
    }
   ],
   "source": [
    "df = pd.read_csv('ex1.csv')\n",
    "df"
   ]
  },
  {
   "cell_type": "code",
   "execution_count": 155,
   "id": "706c15fb-869e-41d8-8378-352b9afbe0e9",
   "metadata": {
    "tags": []
   },
   "outputs": [],
   "source": [
    "df.to_pickle('df.pickle')"
   ]
  },
  {
   "cell_type": "markdown",
   "id": "e563da0b-9206-48e2-a518-f9cd34b3604c",
   "metadata": {},
   "source": [
    "Pickle files are generally readable only in Python. You can read any \"pickled\" object stored in a file using the `pickle` module."
   ]
  },
  {
   "cell_type": "code",
   "execution_count": 158,
   "id": "70707061-740b-4054-85a5-feb212f89f9d",
   "metadata": {
    "tags": []
   },
   "outputs": [],
   "source": [
    "import pickle"
   ]
  },
  {
   "cell_type": "code",
   "execution_count": 160,
   "id": "e8550cf0-aa8a-492a-9eb8-0a863c5da68a",
   "metadata": {
    "tags": []
   },
   "outputs": [
    {
     "data": {
      "text/html": [
       "<div>\n",
       "<style scoped>\n",
       "    .dataframe tbody tr th:only-of-type {\n",
       "        vertical-align: middle;\n",
       "    }\n",
       "\n",
       "    .dataframe tbody tr th {\n",
       "        vertical-align: top;\n",
       "    }\n",
       "\n",
       "    .dataframe thead th {\n",
       "        text-align: right;\n",
       "    }\n",
       "</style>\n",
       "<table border=\"1\" class=\"dataframe\">\n",
       "  <thead>\n",
       "    <tr style=\"text-align: right;\">\n",
       "      <th></th>\n",
       "      <th>a</th>\n",
       "      <th>b</th>\n",
       "      <th>c</th>\n",
       "      <th>d</th>\n",
       "      <th>message</th>\n",
       "    </tr>\n",
       "  </thead>\n",
       "  <tbody>\n",
       "    <tr>\n",
       "      <th>0</th>\n",
       "      <td>1</td>\n",
       "      <td>2</td>\n",
       "      <td>3</td>\n",
       "      <td>4</td>\n",
       "      <td>hello</td>\n",
       "    </tr>\n",
       "    <tr>\n",
       "      <th>1</th>\n",
       "      <td>5</td>\n",
       "      <td>6</td>\n",
       "      <td>7</td>\n",
       "      <td>8</td>\n",
       "      <td>world</td>\n",
       "    </tr>\n",
       "    <tr>\n",
       "      <th>2</th>\n",
       "      <td>9</td>\n",
       "      <td>10</td>\n",
       "      <td>11</td>\n",
       "      <td>12</td>\n",
       "      <td>foo</td>\n",
       "    </tr>\n",
       "  </tbody>\n",
       "</table>\n",
       "</div>"
      ],
      "text/plain": [
       "   a   b   c   d message\n",
       "0  1   2   3   4   hello\n",
       "1  5   6   7   8   world\n",
       "2  9  10  11  12     foo"
      ]
     },
     "execution_count": 160,
     "metadata": {},
     "output_type": "execute_result"
    }
   ],
   "source": [
    "with open('df.pickle', 'rb') as f:\n",
    "    pickled_df = pickle.load(f)\n",
    "pickled_df"
   ]
  },
  {
   "cell_type": "markdown",
   "id": "e0bde923-f998-4e51-a43c-775afffcbd9e",
   "metadata": {
    "execution": {
     "iopub.execute_input": "2024-02-24T02:41:44.469314Z",
     "iopub.status.busy": "2024-02-24T02:41:44.468462Z",
     "iopub.status.idle": "2024-02-24T02:41:44.477042Z",
     "shell.execute_reply": "2024-02-24T02:41:44.476283Z",
     "shell.execute_reply.started": "2024-02-24T02:41:44.469284Z"
    }
   },
   "source": [
    "Or conveniently using the `pd.read_pickle` function:"
   ]
  },
  {
   "cell_type": "code",
   "execution_count": 162,
   "id": "a1bb5e49-53d3-4167-85fe-695a0d05e62d",
   "metadata": {
    "tags": []
   },
   "outputs": [
    {
     "data": {
      "text/html": [
       "<div>\n",
       "<style scoped>\n",
       "    .dataframe tbody tr th:only-of-type {\n",
       "        vertical-align: middle;\n",
       "    }\n",
       "\n",
       "    .dataframe tbody tr th {\n",
       "        vertical-align: top;\n",
       "    }\n",
       "\n",
       "    .dataframe thead th {\n",
       "        text-align: right;\n",
       "    }\n",
       "</style>\n",
       "<table border=\"1\" class=\"dataframe\">\n",
       "  <thead>\n",
       "    <tr style=\"text-align: right;\">\n",
       "      <th></th>\n",
       "      <th>a</th>\n",
       "      <th>b</th>\n",
       "      <th>c</th>\n",
       "      <th>d</th>\n",
       "      <th>message</th>\n",
       "    </tr>\n",
       "  </thead>\n",
       "  <tbody>\n",
       "    <tr>\n",
       "      <th>0</th>\n",
       "      <td>1</td>\n",
       "      <td>2</td>\n",
       "      <td>3</td>\n",
       "      <td>4</td>\n",
       "      <td>hello</td>\n",
       "    </tr>\n",
       "    <tr>\n",
       "      <th>1</th>\n",
       "      <td>5</td>\n",
       "      <td>6</td>\n",
       "      <td>7</td>\n",
       "      <td>8</td>\n",
       "      <td>world</td>\n",
       "    </tr>\n",
       "    <tr>\n",
       "      <th>2</th>\n",
       "      <td>9</td>\n",
       "      <td>10</td>\n",
       "      <td>11</td>\n",
       "      <td>12</td>\n",
       "      <td>foo</td>\n",
       "    </tr>\n",
       "  </tbody>\n",
       "</table>\n",
       "</div>"
      ],
      "text/plain": [
       "   a   b   c   d message\n",
       "0  1   2   3   4   hello\n",
       "1  5   6   7   8   world\n",
       "2  9  10  11  12     foo"
      ]
     },
     "execution_count": 162,
     "metadata": {},
     "output_type": "execute_result"
    }
   ],
   "source": [
    "pd.read_pickle('df.pickle')"
   ]
  },
  {
   "cell_type": "markdown",
   "id": "8871a20d-5f41-4a72-890f-dfb31e2dca3a",
   "metadata": {},
   "source": [
    "## 2 Data Preparation"
   ]
  },
  {
   "cell_type": "markdown",
   "id": "df8657d5-2961-4f8b-a5a5-f8af6c7bfe30",
   "metadata": {},
   "source": [
    "In any data science project, the data preparation: loading, cleaning, transforming, and rearranging takes up 80% of time. Here we explore data preparation methods that is readily available to us in pandas."
   ]
  },
  {
   "cell_type": "markdown",
   "id": "58f04068-4cf5-4d7a-b80c-c4018200421a",
   "metadata": {},
   "source": [
    "### Handling Missing Data"
   ]
  },
  {
   "cell_type": "markdown",
   "id": "c494055e-c535-478b-972d-b8567f79d93a",
   "metadata": {},
   "source": [
    "For data with `float64` dtype, pandas using a floating-point value `NaN` to represent missing data."
   ]
  },
  {
   "cell_type": "code",
   "execution_count": 164,
   "id": "c0096a77-6a5f-43d3-8343-5bcdffe3f9d3",
   "metadata": {
    "tags": []
   },
   "outputs": [
    {
     "data": {
      "text/plain": [
       "0    1.2\n",
       "1   -3.5\n",
       "2    NaN\n",
       "3    NaN\n",
       "4    0.0\n",
       "dtype: float64"
      ]
     },
     "execution_count": 164,
     "metadata": {},
     "output_type": "execute_result"
    }
   ],
   "source": [
    "float_data = pd.Series([1.2, -3.5, np.nan, None, 0])\n",
    "float_data"
   ]
  },
  {
   "cell_type": "markdown",
   "id": "4f694c82-4158-4b9d-a8bf-38631232ba82",
   "metadata": {},
   "source": [
    "Notice that both the numpy `nan` value and `None` is recognized by pandas as null values."
   ]
  },
  {
   "cell_type": "code",
   "execution_count": 166,
   "id": "c485407c-d569-48ae-8116-628b99f2b3bf",
   "metadata": {
    "tags": []
   },
   "outputs": [
    {
     "data": {
      "text/plain": [
       "0    False\n",
       "1    False\n",
       "2     True\n",
       "3     True\n",
       "4    False\n",
       "dtype: bool"
      ]
     },
     "execution_count": 166,
     "metadata": {},
     "output_type": "execute_result"
    }
   ],
   "source": [
    "float_data.isna()"
   ]
  },
  {
   "cell_type": "markdown",
   "id": "f61f5138-752a-4cf0-ad59-932433fc4762",
   "metadata": {
    "tags": []
   },
   "source": [
    "#### Filtering Out Missing Data"
   ]
  },
  {
   "cell_type": "markdown",
   "id": "74f05607-0cfc-427b-a4a4-45f1d7d014c3",
   "metadata": {},
   "source": [
    "There are few ways in which we can filter missing data."
   ]
  },
  {
   "cell_type": "code",
   "execution_count": 168,
   "id": "42bb7672-e470-44d4-8091-ae76c8f091fd",
   "metadata": {
    "tags": []
   },
   "outputs": [
    {
     "data": {
      "text/plain": [
       "0    1.0\n",
       "1    NaN\n",
       "2    3.5\n",
       "3    NaN\n",
       "4    7.0\n",
       "dtype: float64"
      ]
     },
     "execution_count": 168,
     "metadata": {},
     "output_type": "execute_result"
    }
   ],
   "source": [
    "data = pd.Series([1, np.nan, 3.5, np.nan, 7])\n",
    "data"
   ]
  },
  {
   "cell_type": "markdown",
   "id": "06caf761-b1d2-4dcd-a22f-74ce10f83c4f",
   "metadata": {},
   "source": [
    "We can use the `dropna` method."
   ]
  },
  {
   "cell_type": "code",
   "execution_count": 170,
   "id": "adccc4e4-be51-4337-9a86-e6368fcf79aa",
   "metadata": {
    "tags": []
   },
   "outputs": [
    {
     "data": {
      "text/plain": [
       "0    1.0\n",
       "2    3.5\n",
       "4    7.0\n",
       "dtype: float64"
      ]
     },
     "execution_count": 170,
     "metadata": {},
     "output_type": "execute_result"
    }
   ],
   "source": [
    "data.dropna()"
   ]
  },
  {
   "cell_type": "markdown",
   "id": "2e749860-e83a-4d6d-814e-7709d13190c2",
   "metadata": {},
   "source": [
    "Or index not null values."
   ]
  },
  {
   "cell_type": "code",
   "execution_count": 172,
   "id": "a228b773-9d17-4c0a-86c0-4232c714d67c",
   "metadata": {
    "tags": []
   },
   "outputs": [
    {
     "data": {
      "text/plain": [
       "0    1.0\n",
       "2    3.5\n",
       "4    7.0\n",
       "dtype: float64"
      ]
     },
     "execution_count": 172,
     "metadata": {},
     "output_type": "execute_result"
    }
   ],
   "source": [
    "data[data.notna()]"
   ]
  },
  {
   "cell_type": "markdown",
   "id": "dc624b6c-3acc-4a35-b7ce-ab4c0a2cb378",
   "metadata": {},
   "source": [
    "With `DataFrame`s, you may want to drop rows or columns that are all null, or only those rows containing any null values. `dropna` by default drops any row containing a missing value."
   ]
  },
  {
   "cell_type": "code",
   "execution_count": 174,
   "id": "378553e2-e16c-45ad-aff1-15bada1cd294",
   "metadata": {
    "tags": []
   },
   "outputs": [
    {
     "data": {
      "text/html": [
       "<div>\n",
       "<style scoped>\n",
       "    .dataframe tbody tr th:only-of-type {\n",
       "        vertical-align: middle;\n",
       "    }\n",
       "\n",
       "    .dataframe tbody tr th {\n",
       "        vertical-align: top;\n",
       "    }\n",
       "\n",
       "    .dataframe thead th {\n",
       "        text-align: right;\n",
       "    }\n",
       "</style>\n",
       "<table border=\"1\" class=\"dataframe\">\n",
       "  <thead>\n",
       "    <tr style=\"text-align: right;\">\n",
       "      <th></th>\n",
       "      <th>0</th>\n",
       "      <th>1</th>\n",
       "      <th>2</th>\n",
       "    </tr>\n",
       "  </thead>\n",
       "  <tbody>\n",
       "    <tr>\n",
       "      <th>0</th>\n",
       "      <td>1.0</td>\n",
       "      <td>6.5</td>\n",
       "      <td>6.0</td>\n",
       "    </tr>\n",
       "    <tr>\n",
       "      <th>1</th>\n",
       "      <td>2.0</td>\n",
       "      <td>NaN</td>\n",
       "      <td>NaN</td>\n",
       "    </tr>\n",
       "    <tr>\n",
       "      <th>2</th>\n",
       "      <td>NaN</td>\n",
       "      <td>NaN</td>\n",
       "      <td>NaN</td>\n",
       "    </tr>\n",
       "    <tr>\n",
       "      <th>3</th>\n",
       "      <td>NaN</td>\n",
       "      <td>7.5</td>\n",
       "      <td>3.0</td>\n",
       "    </tr>\n",
       "  </tbody>\n",
       "</table>\n",
       "</div>"
      ],
      "text/plain": [
       "     0    1    2\n",
       "0  1.0  6.5  6.0\n",
       "1  2.0  NaN  NaN\n",
       "2  NaN  NaN  NaN\n",
       "3  NaN  7.5  3.0"
      ]
     },
     "execution_count": 174,
     "metadata": {},
     "output_type": "execute_result"
    }
   ],
   "source": [
    "data = pd.DataFrame([[1., 6.5, 6.],\n",
    "                     [2., np.nan, np.nan],\n",
    "                     [np.nan, np.nan, np.nan],\n",
    "                     [np.nan, 7.5, 3.]])\n",
    "data"
   ]
  },
  {
   "cell_type": "code",
   "execution_count": 176,
   "id": "df66bb5b-5dfc-4474-852f-9c5363f89193",
   "metadata": {
    "tags": []
   },
   "outputs": [
    {
     "data": {
      "text/html": [
       "<div>\n",
       "<style scoped>\n",
       "    .dataframe tbody tr th:only-of-type {\n",
       "        vertical-align: middle;\n",
       "    }\n",
       "\n",
       "    .dataframe tbody tr th {\n",
       "        vertical-align: top;\n",
       "    }\n",
       "\n",
       "    .dataframe thead th {\n",
       "        text-align: right;\n",
       "    }\n",
       "</style>\n",
       "<table border=\"1\" class=\"dataframe\">\n",
       "  <thead>\n",
       "    <tr style=\"text-align: right;\">\n",
       "      <th></th>\n",
       "      <th>0</th>\n",
       "      <th>1</th>\n",
       "      <th>2</th>\n",
       "    </tr>\n",
       "  </thead>\n",
       "  <tbody>\n",
       "    <tr>\n",
       "      <th>0</th>\n",
       "      <td>1.0</td>\n",
       "      <td>6.5</td>\n",
       "      <td>6.0</td>\n",
       "    </tr>\n",
       "  </tbody>\n",
       "</table>\n",
       "</div>"
      ],
      "text/plain": [
       "     0    1    2\n",
       "0  1.0  6.5  6.0"
      ]
     },
     "execution_count": 176,
     "metadata": {},
     "output_type": "execute_result"
    }
   ],
   "source": [
    "data.dropna()"
   ]
  },
  {
   "cell_type": "markdown",
   "id": "646c9f1e-5a33-4976-9955-11928530b073",
   "metadata": {},
   "source": [
    "To drop only rows that are all nulls, we specify the `all` to the `how` parameter."
   ]
  },
  {
   "cell_type": "code",
   "execution_count": 179,
   "id": "5b996bb4-242c-4f87-a5a6-fa8b28ae0a5d",
   "metadata": {
    "tags": []
   },
   "outputs": [
    {
     "data": {
      "text/html": [
       "<div>\n",
       "<style scoped>\n",
       "    .dataframe tbody tr th:only-of-type {\n",
       "        vertical-align: middle;\n",
       "    }\n",
       "\n",
       "    .dataframe tbody tr th {\n",
       "        vertical-align: top;\n",
       "    }\n",
       "\n",
       "    .dataframe thead th {\n",
       "        text-align: right;\n",
       "    }\n",
       "</style>\n",
       "<table border=\"1\" class=\"dataframe\">\n",
       "  <thead>\n",
       "    <tr style=\"text-align: right;\">\n",
       "      <th></th>\n",
       "      <th>0</th>\n",
       "      <th>1</th>\n",
       "      <th>2</th>\n",
       "    </tr>\n",
       "  </thead>\n",
       "  <tbody>\n",
       "    <tr>\n",
       "      <th>0</th>\n",
       "      <td>1.0</td>\n",
       "      <td>6.5</td>\n",
       "      <td>6.0</td>\n",
       "    </tr>\n",
       "    <tr>\n",
       "      <th>1</th>\n",
       "      <td>2.0</td>\n",
       "      <td>NaN</td>\n",
       "      <td>NaN</td>\n",
       "    </tr>\n",
       "    <tr>\n",
       "      <th>3</th>\n",
       "      <td>NaN</td>\n",
       "      <td>7.5</td>\n",
       "      <td>3.0</td>\n",
       "    </tr>\n",
       "  </tbody>\n",
       "</table>\n",
       "</div>"
      ],
      "text/plain": [
       "     0    1    2\n",
       "0  1.0  6.5  6.0\n",
       "1  2.0  NaN  NaN\n",
       "3  NaN  7.5  3.0"
      ]
     },
     "execution_count": 179,
     "metadata": {},
     "output_type": "execute_result"
    }
   ],
   "source": [
    "data.dropna(how='all')"
   ]
  },
  {
   "cell_type": "markdown",
   "id": "17a6b593-58fe-47bd-a06e-48d75d1f4daf",
   "metadata": {},
   "source": [
    "To drop with respect to the columns instead, we specify the `axis` parameter."
   ]
  },
  {
   "cell_type": "code",
   "execution_count": 182,
   "id": "db87d043-089a-4a16-b0a1-565ab7c20701",
   "metadata": {
    "tags": []
   },
   "outputs": [
    {
     "data": {
      "text/html": [
       "<div>\n",
       "<style scoped>\n",
       "    .dataframe tbody tr th:only-of-type {\n",
       "        vertical-align: middle;\n",
       "    }\n",
       "\n",
       "    .dataframe tbody tr th {\n",
       "        vertical-align: top;\n",
       "    }\n",
       "\n",
       "    .dataframe thead th {\n",
       "        text-align: right;\n",
       "    }\n",
       "</style>\n",
       "<table border=\"1\" class=\"dataframe\">\n",
       "  <thead>\n",
       "    <tr style=\"text-align: right;\">\n",
       "      <th></th>\n",
       "    </tr>\n",
       "  </thead>\n",
       "  <tbody>\n",
       "    <tr>\n",
       "      <th>0</th>\n",
       "    </tr>\n",
       "    <tr>\n",
       "      <th>1</th>\n",
       "    </tr>\n",
       "    <tr>\n",
       "      <th>2</th>\n",
       "    </tr>\n",
       "    <tr>\n",
       "      <th>3</th>\n",
       "    </tr>\n",
       "  </tbody>\n",
       "</table>\n",
       "</div>"
      ],
      "text/plain": [
       "Empty DataFrame\n",
       "Columns: []\n",
       "Index: [0, 1, 2, 3]"
      ]
     },
     "execution_count": 182,
     "metadata": {},
     "output_type": "execute_result"
    }
   ],
   "source": [
    "data.dropna(axis='columns')"
   ]
  },
  {
   "cell_type": "code",
   "execution_count": 184,
   "id": "fb997cf7-66fe-4bd9-93e5-e981cb3fd9b9",
   "metadata": {},
   "outputs": [
    {
     "data": {
      "text/html": [
       "<div>\n",
       "<style scoped>\n",
       "    .dataframe tbody tr th:only-of-type {\n",
       "        vertical-align: middle;\n",
       "    }\n",
       "\n",
       "    .dataframe tbody tr th {\n",
       "        vertical-align: top;\n",
       "    }\n",
       "\n",
       "    .dataframe thead th {\n",
       "        text-align: right;\n",
       "    }\n",
       "</style>\n",
       "<table border=\"1\" class=\"dataframe\">\n",
       "  <thead>\n",
       "    <tr style=\"text-align: right;\">\n",
       "      <th></th>\n",
       "      <th>0</th>\n",
       "      <th>1</th>\n",
       "      <th>2</th>\n",
       "      <th>4</th>\n",
       "    </tr>\n",
       "  </thead>\n",
       "  <tbody>\n",
       "    <tr>\n",
       "      <th>0</th>\n",
       "      <td>1.0</td>\n",
       "      <td>6.5</td>\n",
       "      <td>6.0</td>\n",
       "      <td>NaN</td>\n",
       "    </tr>\n",
       "    <tr>\n",
       "      <th>1</th>\n",
       "      <td>2.0</td>\n",
       "      <td>NaN</td>\n",
       "      <td>NaN</td>\n",
       "      <td>NaN</td>\n",
       "    </tr>\n",
       "    <tr>\n",
       "      <th>2</th>\n",
       "      <td>NaN</td>\n",
       "      <td>NaN</td>\n",
       "      <td>NaN</td>\n",
       "      <td>NaN</td>\n",
       "    </tr>\n",
       "    <tr>\n",
       "      <th>3</th>\n",
       "      <td>NaN</td>\n",
       "      <td>7.5</td>\n",
       "      <td>3.0</td>\n",
       "      <td>NaN</td>\n",
       "    </tr>\n",
       "  </tbody>\n",
       "</table>\n",
       "</div>"
      ],
      "text/plain": [
       "     0    1    2   4\n",
       "0  1.0  6.5  6.0 NaN\n",
       "1  2.0  NaN  NaN NaN\n",
       "2  NaN  NaN  NaN NaN\n",
       "3  NaN  7.5  3.0 NaN"
      ]
     },
     "execution_count": 184,
     "metadata": {},
     "output_type": "execute_result"
    }
   ],
   "source": [
    "data[4] = np.nan\n",
    "data"
   ]
  },
  {
   "cell_type": "code",
   "execution_count": 186,
   "id": "cbbfab58-888f-47c4-a378-698595540966",
   "metadata": {},
   "outputs": [
    {
     "data": {
      "text/html": [
       "<div>\n",
       "<style scoped>\n",
       "    .dataframe tbody tr th:only-of-type {\n",
       "        vertical-align: middle;\n",
       "    }\n",
       "\n",
       "    .dataframe tbody tr th {\n",
       "        vertical-align: top;\n",
       "    }\n",
       "\n",
       "    .dataframe thead th {\n",
       "        text-align: right;\n",
       "    }\n",
       "</style>\n",
       "<table border=\"1\" class=\"dataframe\">\n",
       "  <thead>\n",
       "    <tr style=\"text-align: right;\">\n",
       "      <th></th>\n",
       "      <th>0</th>\n",
       "      <th>1</th>\n",
       "      <th>2</th>\n",
       "    </tr>\n",
       "  </thead>\n",
       "  <tbody>\n",
       "    <tr>\n",
       "      <th>0</th>\n",
       "      <td>1.0</td>\n",
       "      <td>6.5</td>\n",
       "      <td>6.0</td>\n",
       "    </tr>\n",
       "    <tr>\n",
       "      <th>1</th>\n",
       "      <td>2.0</td>\n",
       "      <td>NaN</td>\n",
       "      <td>NaN</td>\n",
       "    </tr>\n",
       "    <tr>\n",
       "      <th>2</th>\n",
       "      <td>NaN</td>\n",
       "      <td>NaN</td>\n",
       "      <td>NaN</td>\n",
       "    </tr>\n",
       "    <tr>\n",
       "      <th>3</th>\n",
       "      <td>NaN</td>\n",
       "      <td>7.5</td>\n",
       "      <td>3.0</td>\n",
       "    </tr>\n",
       "  </tbody>\n",
       "</table>\n",
       "</div>"
      ],
      "text/plain": [
       "     0    1    2\n",
       "0  1.0  6.5  6.0\n",
       "1  2.0  NaN  NaN\n",
       "2  NaN  NaN  NaN\n",
       "3  NaN  7.5  3.0"
      ]
     },
     "execution_count": 186,
     "metadata": {},
     "output_type": "execute_result"
    }
   ],
   "source": [
    "data.dropna(axis=1, how='all')"
   ]
  },
  {
   "cell_type": "markdown",
   "id": "770a6e62-4747-42ae-877a-ff1b17cf76fd",
   "metadata": {
    "execution": {
     "iopub.execute_input": "2024-02-24T02:53:24.930023Z",
     "iopub.status.busy": "2024-02-24T02:53:24.929566Z",
     "iopub.status.idle": "2024-02-24T02:53:24.939092Z",
     "shell.execute_reply": "2024-02-24T02:53:24.938178Z",
     "shell.execute_reply.started": "2024-02-24T02:53:24.929992Z"
    }
   },
   "source": [
    "If we want to keep only rows containing at most a certain number of missing observations. We can indicate this using the `thresh` argument."
   ]
  },
  {
   "cell_type": "code",
   "execution_count": 189,
   "id": "29965e6b-5067-49b1-b244-f3150c4db49e",
   "metadata": {
    "tags": []
   },
   "outputs": [
    {
     "data": {
      "text/html": [
       "<div>\n",
       "<style scoped>\n",
       "    .dataframe tbody tr th:only-of-type {\n",
       "        vertical-align: middle;\n",
       "    }\n",
       "\n",
       "    .dataframe tbody tr th {\n",
       "        vertical-align: top;\n",
       "    }\n",
       "\n",
       "    .dataframe thead th {\n",
       "        text-align: right;\n",
       "    }\n",
       "</style>\n",
       "<table border=\"1\" class=\"dataframe\">\n",
       "  <thead>\n",
       "    <tr style=\"text-align: right;\">\n",
       "      <th></th>\n",
       "      <th>0</th>\n",
       "      <th>1</th>\n",
       "      <th>2</th>\n",
       "      <th>4</th>\n",
       "    </tr>\n",
       "  </thead>\n",
       "  <tbody>\n",
       "    <tr>\n",
       "      <th>0</th>\n",
       "      <td>1.0</td>\n",
       "      <td>6.5</td>\n",
       "      <td>6.0</td>\n",
       "      <td>NaN</td>\n",
       "    </tr>\n",
       "    <tr>\n",
       "      <th>1</th>\n",
       "      <td>2.0</td>\n",
       "      <td>NaN</td>\n",
       "      <td>NaN</td>\n",
       "      <td>NaN</td>\n",
       "    </tr>\n",
       "    <tr>\n",
       "      <th>2</th>\n",
       "      <td>NaN</td>\n",
       "      <td>NaN</td>\n",
       "      <td>NaN</td>\n",
       "      <td>NaN</td>\n",
       "    </tr>\n",
       "    <tr>\n",
       "      <th>3</th>\n",
       "      <td>NaN</td>\n",
       "      <td>7.5</td>\n",
       "      <td>3.0</td>\n",
       "      <td>NaN</td>\n",
       "    </tr>\n",
       "  </tbody>\n",
       "</table>\n",
       "</div>"
      ],
      "text/plain": [
       "     0    1    2   4\n",
       "0  1.0  6.5  6.0 NaN\n",
       "1  2.0  NaN  NaN NaN\n",
       "2  NaN  NaN  NaN NaN\n",
       "3  NaN  7.5  3.0 NaN"
      ]
     },
     "execution_count": 189,
     "metadata": {},
     "output_type": "execute_result"
    }
   ],
   "source": [
    "data"
   ]
  },
  {
   "cell_type": "code",
   "execution_count": 191,
   "id": "06767f84-6aff-4a08-bd24-c0e70e0a9498",
   "metadata": {
    "tags": []
   },
   "outputs": [
    {
     "data": {
      "text/html": [
       "<div>\n",
       "<style scoped>\n",
       "    .dataframe tbody tr th:only-of-type {\n",
       "        vertical-align: middle;\n",
       "    }\n",
       "\n",
       "    .dataframe tbody tr th {\n",
       "        vertical-align: top;\n",
       "    }\n",
       "\n",
       "    .dataframe thead th {\n",
       "        text-align: right;\n",
       "    }\n",
       "</style>\n",
       "<table border=\"1\" class=\"dataframe\">\n",
       "  <thead>\n",
       "    <tr style=\"text-align: right;\">\n",
       "      <th></th>\n",
       "      <th>0</th>\n",
       "      <th>1</th>\n",
       "      <th>2</th>\n",
       "      <th>4</th>\n",
       "    </tr>\n",
       "  </thead>\n",
       "  <tbody>\n",
       "    <tr>\n",
       "      <th>0</th>\n",
       "      <td>1.0</td>\n",
       "      <td>6.5</td>\n",
       "      <td>6.0</td>\n",
       "      <td>NaN</td>\n",
       "    </tr>\n",
       "    <tr>\n",
       "      <th>3</th>\n",
       "      <td>NaN</td>\n",
       "      <td>7.5</td>\n",
       "      <td>3.0</td>\n",
       "      <td>NaN</td>\n",
       "    </tr>\n",
       "  </tbody>\n",
       "</table>\n",
       "</div>"
      ],
      "text/plain": [
       "     0    1    2   4\n",
       "0  1.0  6.5  6.0 NaN\n",
       "3  NaN  7.5  3.0 NaN"
      ]
     },
     "execution_count": 191,
     "metadata": {},
     "output_type": "execute_result"
    }
   ],
   "source": [
    "data.dropna(thresh=2)"
   ]
  },
  {
   "cell_type": "markdown",
   "id": "418867e1-8154-4dab-8b8c-3561b9d97ee3",
   "metadata": {
    "tags": []
   },
   "source": [
    "#### Filling In Missing Data"
   ]
  },
  {
   "cell_type": "markdown",
   "id": "bed2cf8d-1e20-44b9-ae9a-0ee4217bbab2",
   "metadata": {},
   "source": [
    "Rather than filtering out missing data, we may want to fill the null values in a number of ways. For most cases, the `fillna` method allows us to use a constant to replace missing values."
   ]
  },
  {
   "cell_type": "code",
   "execution_count": 195,
   "id": "dc4a5317-9aba-43c4-b3b8-347fad82e047",
   "metadata": {
    "tags": []
   },
   "outputs": [
    {
     "data": {
      "text/html": [
       "<div>\n",
       "<style scoped>\n",
       "    .dataframe tbody tr th:only-of-type {\n",
       "        vertical-align: middle;\n",
       "    }\n",
       "\n",
       "    .dataframe tbody tr th {\n",
       "        vertical-align: top;\n",
       "    }\n",
       "\n",
       "    .dataframe thead th {\n",
       "        text-align: right;\n",
       "    }\n",
       "</style>\n",
       "<table border=\"1\" class=\"dataframe\">\n",
       "  <thead>\n",
       "    <tr style=\"text-align: right;\">\n",
       "      <th></th>\n",
       "      <th>0</th>\n",
       "      <th>1</th>\n",
       "      <th>2</th>\n",
       "      <th>4</th>\n",
       "    </tr>\n",
       "  </thead>\n",
       "  <tbody>\n",
       "    <tr>\n",
       "      <th>0</th>\n",
       "      <td>1.0</td>\n",
       "      <td>6.5</td>\n",
       "      <td>6.0</td>\n",
       "      <td>-10.0</td>\n",
       "    </tr>\n",
       "    <tr>\n",
       "      <th>1</th>\n",
       "      <td>2.0</td>\n",
       "      <td>-10.0</td>\n",
       "      <td>-10.0</td>\n",
       "      <td>-10.0</td>\n",
       "    </tr>\n",
       "    <tr>\n",
       "      <th>2</th>\n",
       "      <td>-10.0</td>\n",
       "      <td>-10.0</td>\n",
       "      <td>-10.0</td>\n",
       "      <td>-10.0</td>\n",
       "    </tr>\n",
       "    <tr>\n",
       "      <th>3</th>\n",
       "      <td>-10.0</td>\n",
       "      <td>7.5</td>\n",
       "      <td>3.0</td>\n",
       "      <td>-10.0</td>\n",
       "    </tr>\n",
       "  </tbody>\n",
       "</table>\n",
       "</div>"
      ],
      "text/plain": [
       "      0     1     2     4\n",
       "0   1.0   6.5   6.0 -10.0\n",
       "1   2.0 -10.0 -10.0 -10.0\n",
       "2 -10.0 -10.0 -10.0 -10.0\n",
       "3 -10.0   7.5   3.0 -10.0"
      ]
     },
     "execution_count": 195,
     "metadata": {},
     "output_type": "execute_result"
    }
   ],
   "source": [
    "data.fillna(-10)"
   ]
  },
  {
   "cell_type": "markdown",
   "id": "054974c2-94f2-4780-882a-ee69b5d52384",
   "metadata": {},
   "source": [
    "We can also use a dictionary to specify null values for each column."
   ]
  },
  {
   "cell_type": "code",
   "execution_count": 198,
   "id": "125f6886-32ed-40c1-af4e-83eef5763471",
   "metadata": {
    "tags": []
   },
   "outputs": [
    {
     "data": {
      "text/html": [
       "<div>\n",
       "<style scoped>\n",
       "    .dataframe tbody tr th:only-of-type {\n",
       "        vertical-align: middle;\n",
       "    }\n",
       "\n",
       "    .dataframe tbody tr th {\n",
       "        vertical-align: top;\n",
       "    }\n",
       "\n",
       "    .dataframe thead th {\n",
       "        text-align: right;\n",
       "    }\n",
       "</style>\n",
       "<table border=\"1\" class=\"dataframe\">\n",
       "  <thead>\n",
       "    <tr style=\"text-align: right;\">\n",
       "      <th></th>\n",
       "      <th>0</th>\n",
       "      <th>1</th>\n",
       "      <th>2</th>\n",
       "      <th>4</th>\n",
       "    </tr>\n",
       "  </thead>\n",
       "  <tbody>\n",
       "    <tr>\n",
       "      <th>0</th>\n",
       "      <td>1.0</td>\n",
       "      <td>6.5</td>\n",
       "      <td>6.0</td>\n",
       "      <td>-10000.0</td>\n",
       "    </tr>\n",
       "    <tr>\n",
       "      <th>1</th>\n",
       "      <td>2.0</td>\n",
       "      <td>-100.0</td>\n",
       "      <td>-1000.0</td>\n",
       "      <td>-10000.0</td>\n",
       "    </tr>\n",
       "    <tr>\n",
       "      <th>2</th>\n",
       "      <td>-10.0</td>\n",
       "      <td>-100.0</td>\n",
       "      <td>-1000.0</td>\n",
       "      <td>-10000.0</td>\n",
       "    </tr>\n",
       "    <tr>\n",
       "      <th>3</th>\n",
       "      <td>-10.0</td>\n",
       "      <td>7.5</td>\n",
       "      <td>3.0</td>\n",
       "      <td>-10000.0</td>\n",
       "    </tr>\n",
       "  </tbody>\n",
       "</table>\n",
       "</div>"
      ],
      "text/plain": [
       "      0      1       2        4\n",
       "0   1.0    6.5     6.0 -10000.0\n",
       "1   2.0 -100.0 -1000.0 -10000.0\n",
       "2 -10.0 -100.0 -1000.0 -10000.0\n",
       "3 -10.0    7.5     3.0 -10000.0"
      ]
     },
     "execution_count": 198,
     "metadata": {},
     "output_type": "execute_result"
    }
   ],
   "source": [
    "data.fillna({0: -10, 1: -100, 2: -1_000, 4: -10_000})"
   ]
  },
  {
   "cell_type": "markdown",
   "id": "a069ee85-053d-405f-a91f-356826f642c1",
   "metadata": {},
   "source": [
    "We can also do the forward filling and backfilling method which we encountered in the previous notebook."
   ]
  },
  {
   "cell_type": "code",
   "execution_count": 201,
   "id": "2ded54d7-5981-4920-98a9-1c758dc74d58",
   "metadata": {
    "tags": []
   },
   "outputs": [
    {
     "name": "stderr",
     "output_type": "stream",
     "text": [
      "C:\\Users\\kate\\AppData\\Local\\Temp\\ipykernel_13660\\1844443866.py:1: FutureWarning: DataFrame.fillna with 'method' is deprecated and will raise in a future version. Use obj.ffill() or obj.bfill() instead.\n",
      "  data.fillna(method='ffill')\n"
     ]
    },
    {
     "data": {
      "text/html": [
       "<div>\n",
       "<style scoped>\n",
       "    .dataframe tbody tr th:only-of-type {\n",
       "        vertical-align: middle;\n",
       "    }\n",
       "\n",
       "    .dataframe tbody tr th {\n",
       "        vertical-align: top;\n",
       "    }\n",
       "\n",
       "    .dataframe thead th {\n",
       "        text-align: right;\n",
       "    }\n",
       "</style>\n",
       "<table border=\"1\" class=\"dataframe\">\n",
       "  <thead>\n",
       "    <tr style=\"text-align: right;\">\n",
       "      <th></th>\n",
       "      <th>0</th>\n",
       "      <th>1</th>\n",
       "      <th>2</th>\n",
       "      <th>4</th>\n",
       "    </tr>\n",
       "  </thead>\n",
       "  <tbody>\n",
       "    <tr>\n",
       "      <th>0</th>\n",
       "      <td>1.0</td>\n",
       "      <td>6.5</td>\n",
       "      <td>6.0</td>\n",
       "      <td>NaN</td>\n",
       "    </tr>\n",
       "    <tr>\n",
       "      <th>1</th>\n",
       "      <td>2.0</td>\n",
       "      <td>6.5</td>\n",
       "      <td>6.0</td>\n",
       "      <td>NaN</td>\n",
       "    </tr>\n",
       "    <tr>\n",
       "      <th>2</th>\n",
       "      <td>2.0</td>\n",
       "      <td>6.5</td>\n",
       "      <td>6.0</td>\n",
       "      <td>NaN</td>\n",
       "    </tr>\n",
       "    <tr>\n",
       "      <th>3</th>\n",
       "      <td>2.0</td>\n",
       "      <td>7.5</td>\n",
       "      <td>3.0</td>\n",
       "      <td>NaN</td>\n",
       "    </tr>\n",
       "  </tbody>\n",
       "</table>\n",
       "</div>"
      ],
      "text/plain": [
       "     0    1    2   4\n",
       "0  1.0  6.5  6.0 NaN\n",
       "1  2.0  6.5  6.0 NaN\n",
       "2  2.0  6.5  6.0 NaN\n",
       "3  2.0  7.5  3.0 NaN"
      ]
     },
     "execution_count": 201,
     "metadata": {},
     "output_type": "execute_result"
    }
   ],
   "source": [
    "data.fillna(method='ffill')"
   ]
  },
  {
   "cell_type": "code",
   "execution_count": 203,
   "id": "f53d56a9-2aa6-4215-9965-3abdac979b02",
   "metadata": {
    "tags": []
   },
   "outputs": [
    {
     "name": "stderr",
     "output_type": "stream",
     "text": [
      "C:\\Users\\kate\\AppData\\Local\\Temp\\ipykernel_13660\\1397359497.py:1: FutureWarning: DataFrame.fillna with 'method' is deprecated and will raise in a future version. Use obj.ffill() or obj.bfill() instead.\n",
      "  data.fillna(method='bfill')\n"
     ]
    },
    {
     "data": {
      "text/html": [
       "<div>\n",
       "<style scoped>\n",
       "    .dataframe tbody tr th:only-of-type {\n",
       "        vertical-align: middle;\n",
       "    }\n",
       "\n",
       "    .dataframe tbody tr th {\n",
       "        vertical-align: top;\n",
       "    }\n",
       "\n",
       "    .dataframe thead th {\n",
       "        text-align: right;\n",
       "    }\n",
       "</style>\n",
       "<table border=\"1\" class=\"dataframe\">\n",
       "  <thead>\n",
       "    <tr style=\"text-align: right;\">\n",
       "      <th></th>\n",
       "      <th>0</th>\n",
       "      <th>1</th>\n",
       "      <th>2</th>\n",
       "      <th>4</th>\n",
       "    </tr>\n",
       "  </thead>\n",
       "  <tbody>\n",
       "    <tr>\n",
       "      <th>0</th>\n",
       "      <td>1.0</td>\n",
       "      <td>6.5</td>\n",
       "      <td>6.0</td>\n",
       "      <td>NaN</td>\n",
       "    </tr>\n",
       "    <tr>\n",
       "      <th>1</th>\n",
       "      <td>2.0</td>\n",
       "      <td>7.5</td>\n",
       "      <td>3.0</td>\n",
       "      <td>NaN</td>\n",
       "    </tr>\n",
       "    <tr>\n",
       "      <th>2</th>\n",
       "      <td>NaN</td>\n",
       "      <td>7.5</td>\n",
       "      <td>3.0</td>\n",
       "      <td>NaN</td>\n",
       "    </tr>\n",
       "    <tr>\n",
       "      <th>3</th>\n",
       "      <td>NaN</td>\n",
       "      <td>7.5</td>\n",
       "      <td>3.0</td>\n",
       "      <td>NaN</td>\n",
       "    </tr>\n",
       "  </tbody>\n",
       "</table>\n",
       "</div>"
      ],
      "text/plain": [
       "     0    1    2   4\n",
       "0  1.0  6.5  6.0 NaN\n",
       "1  2.0  7.5  3.0 NaN\n",
       "2  NaN  7.5  3.0 NaN\n",
       "3  NaN  7.5  3.0 NaN"
      ]
     },
     "execution_count": 203,
     "metadata": {},
     "output_type": "execute_result"
    }
   ],
   "source": [
    "data.fillna(method='bfill')"
   ]
  },
  {
   "cell_type": "markdown",
   "id": "7738cb03-5e38-43c7-a675-ef75a4e57ad0",
   "metadata": {},
   "source": [
    "One of the common ways of imputing a value in the data is to use the mean value of that column."
   ]
  },
  {
   "cell_type": "code",
   "execution_count": 206,
   "id": "5f9851eb-05d1-4af5-873f-5e16b0ef2236",
   "metadata": {
    "tags": []
   },
   "outputs": [
    {
     "data": {
      "text/html": [
       "<div>\n",
       "<style scoped>\n",
       "    .dataframe tbody tr th:only-of-type {\n",
       "        vertical-align: middle;\n",
       "    }\n",
       "\n",
       "    .dataframe tbody tr th {\n",
       "        vertical-align: top;\n",
       "    }\n",
       "\n",
       "    .dataframe thead th {\n",
       "        text-align: right;\n",
       "    }\n",
       "</style>\n",
       "<table border=\"1\" class=\"dataframe\">\n",
       "  <thead>\n",
       "    <tr style=\"text-align: right;\">\n",
       "      <th></th>\n",
       "      <th>0</th>\n",
       "      <th>1</th>\n",
       "      <th>2</th>\n",
       "      <th>4</th>\n",
       "    </tr>\n",
       "  </thead>\n",
       "  <tbody>\n",
       "    <tr>\n",
       "      <th>0</th>\n",
       "      <td>1.0</td>\n",
       "      <td>6.5</td>\n",
       "      <td>6.0</td>\n",
       "      <td>NaN</td>\n",
       "    </tr>\n",
       "    <tr>\n",
       "      <th>1</th>\n",
       "      <td>2.0</td>\n",
       "      <td>7.0</td>\n",
       "      <td>4.5</td>\n",
       "      <td>NaN</td>\n",
       "    </tr>\n",
       "    <tr>\n",
       "      <th>2</th>\n",
       "      <td>1.5</td>\n",
       "      <td>7.0</td>\n",
       "      <td>4.5</td>\n",
       "      <td>NaN</td>\n",
       "    </tr>\n",
       "    <tr>\n",
       "      <th>3</th>\n",
       "      <td>1.5</td>\n",
       "      <td>7.5</td>\n",
       "      <td>3.0</td>\n",
       "      <td>NaN</td>\n",
       "    </tr>\n",
       "  </tbody>\n",
       "</table>\n",
       "</div>"
      ],
      "text/plain": [
       "     0    1    2   4\n",
       "0  1.0  6.5  6.0 NaN\n",
       "1  2.0  7.0  4.5 NaN\n",
       "2  1.5  7.0  4.5 NaN\n",
       "3  1.5  7.5  3.0 NaN"
      ]
     },
     "execution_count": 206,
     "metadata": {},
     "output_type": "execute_result"
    }
   ],
   "source": [
    "data.fillna(data.mean())"
   ]
  },
  {
   "cell_type": "markdown",
   "id": "a0e3abde-1815-4801-a3a2-9718593b2532",
   "metadata": {
    "tags": []
   },
   "source": [
    "### Data Transformation"
   ]
  },
  {
   "cell_type": "markdown",
   "id": "6d765ea0-f9f9-4c55-bd78-3b4cd9ee9ba3",
   "metadata": {},
   "source": [
    "#### Removing Duplicates"
   ]
  },
  {
   "cell_type": "markdown",
   "id": "3a0f627f-8d97-4691-a1f7-51b55b03a575",
   "metadata": {},
   "source": [
    "Given a data with duplicates,"
   ]
  },
  {
   "cell_type": "code",
   "execution_count": 208,
   "id": "b56d4ba7-2fbc-4390-a508-cfe4deffe953",
   "metadata": {
    "tags": []
   },
   "outputs": [
    {
     "data": {
      "text/html": [
       "<div>\n",
       "<style scoped>\n",
       "    .dataframe tbody tr th:only-of-type {\n",
       "        vertical-align: middle;\n",
       "    }\n",
       "\n",
       "    .dataframe tbody tr th {\n",
       "        vertical-align: top;\n",
       "    }\n",
       "\n",
       "    .dataframe thead th {\n",
       "        text-align: right;\n",
       "    }\n",
       "</style>\n",
       "<table border=\"1\" class=\"dataframe\">\n",
       "  <thead>\n",
       "    <tr style=\"text-align: right;\">\n",
       "      <th></th>\n",
       "      <th>k1</th>\n",
       "      <th>k2</th>\n",
       "    </tr>\n",
       "  </thead>\n",
       "  <tbody>\n",
       "    <tr>\n",
       "      <th>0</th>\n",
       "      <td>one</td>\n",
       "      <td>1</td>\n",
       "    </tr>\n",
       "    <tr>\n",
       "      <th>1</th>\n",
       "      <td>two</td>\n",
       "      <td>1</td>\n",
       "    </tr>\n",
       "    <tr>\n",
       "      <th>2</th>\n",
       "      <td>one</td>\n",
       "      <td>2</td>\n",
       "    </tr>\n",
       "    <tr>\n",
       "      <th>3</th>\n",
       "      <td>two</td>\n",
       "      <td>3</td>\n",
       "    </tr>\n",
       "    <tr>\n",
       "      <th>4</th>\n",
       "      <td>one</td>\n",
       "      <td>3</td>\n",
       "    </tr>\n",
       "    <tr>\n",
       "      <th>5</th>\n",
       "      <td>two</td>\n",
       "      <td>4</td>\n",
       "    </tr>\n",
       "    <tr>\n",
       "      <th>6</th>\n",
       "      <td>two</td>\n",
       "      <td>4</td>\n",
       "    </tr>\n",
       "  </tbody>\n",
       "</table>\n",
       "</div>"
      ],
      "text/plain": [
       "    k1  k2\n",
       "0  one   1\n",
       "1  two   1\n",
       "2  one   2\n",
       "3  two   3\n",
       "4  one   3\n",
       "5  two   4\n",
       "6  two   4"
      ]
     },
     "execution_count": 208,
     "metadata": {},
     "output_type": "execute_result"
    }
   ],
   "source": [
    "data = pd.DataFrame({'k1': ['one', 'two'] * 3 + ['two'],\n",
    "                     'k2': [1, 1, 2, 3, 3, 4, 4]})\n",
    "data"
   ]
  },
  {
   "cell_type": "markdown",
   "id": "ca6678f2-a98f-4898-9d77-b1635189b668",
   "metadata": {},
   "source": [
    "We can first determine which rows are duplicates of one another using the `duplicated` method."
   ]
  },
  {
   "cell_type": "code",
   "execution_count": 211,
   "id": "bd08500f-db78-4ff4-8115-459aab3ac5f5",
   "metadata": {
    "tags": []
   },
   "outputs": [
    {
     "data": {
      "text/plain": [
       "0    False\n",
       "1    False\n",
       "2    False\n",
       "3    False\n",
       "4    False\n",
       "5    False\n",
       "6     True\n",
       "dtype: bool"
      ]
     },
     "execution_count": 211,
     "metadata": {},
     "output_type": "execute_result"
    }
   ],
   "source": [
    "data.duplicated()"
   ]
  },
  {
   "cell_type": "markdown",
   "id": "91079663-d19a-47e9-a04b-ea6dd9b27072",
   "metadata": {},
   "source": [
    "Or drop them directly using the `drop_duplicates` method."
   ]
  },
  {
   "cell_type": "code",
   "execution_count": 214,
   "id": "6f56789b-ac66-45ac-8f16-2457988d5d60",
   "metadata": {
    "tags": []
   },
   "outputs": [
    {
     "data": {
      "text/html": [
       "<div>\n",
       "<style scoped>\n",
       "    .dataframe tbody tr th:only-of-type {\n",
       "        vertical-align: middle;\n",
       "    }\n",
       "\n",
       "    .dataframe tbody tr th {\n",
       "        vertical-align: top;\n",
       "    }\n",
       "\n",
       "    .dataframe thead th {\n",
       "        text-align: right;\n",
       "    }\n",
       "</style>\n",
       "<table border=\"1\" class=\"dataframe\">\n",
       "  <thead>\n",
       "    <tr style=\"text-align: right;\">\n",
       "      <th></th>\n",
       "      <th>k1</th>\n",
       "      <th>k2</th>\n",
       "    </tr>\n",
       "  </thead>\n",
       "  <tbody>\n",
       "    <tr>\n",
       "      <th>0</th>\n",
       "      <td>one</td>\n",
       "      <td>1</td>\n",
       "    </tr>\n",
       "    <tr>\n",
       "      <th>1</th>\n",
       "      <td>two</td>\n",
       "      <td>1</td>\n",
       "    </tr>\n",
       "    <tr>\n",
       "      <th>2</th>\n",
       "      <td>one</td>\n",
       "      <td>2</td>\n",
       "    </tr>\n",
       "    <tr>\n",
       "      <th>3</th>\n",
       "      <td>two</td>\n",
       "      <td>3</td>\n",
       "    </tr>\n",
       "    <tr>\n",
       "      <th>4</th>\n",
       "      <td>one</td>\n",
       "      <td>3</td>\n",
       "    </tr>\n",
       "    <tr>\n",
       "      <th>5</th>\n",
       "      <td>two</td>\n",
       "      <td>4</td>\n",
       "    </tr>\n",
       "  </tbody>\n",
       "</table>\n",
       "</div>"
      ],
      "text/plain": [
       "    k1  k2\n",
       "0  one   1\n",
       "1  two   1\n",
       "2  one   2\n",
       "3  two   3\n",
       "4  one   3\n",
       "5  two   4"
      ]
     },
     "execution_count": 214,
     "metadata": {},
     "output_type": "execute_result"
    }
   ],
   "source": [
    "data.drop_duplicates()"
   ]
  },
  {
   "cell_type": "markdown",
   "id": "d25c7808-299e-4296-885a-5007f580da1e",
   "metadata": {},
   "source": [
    "Both by default consider both columns. Alternatively, we can specify any subset to drop duplicated rows across that subset."
   ]
  },
  {
   "cell_type": "code",
   "execution_count": 217,
   "id": "b623dda6-e8c9-4da6-83a2-6d51d7faafd5",
   "metadata": {
    "tags": []
   },
   "outputs": [
    {
     "data": {
      "text/html": [
       "<div>\n",
       "<style scoped>\n",
       "    .dataframe tbody tr th:only-of-type {\n",
       "        vertical-align: middle;\n",
       "    }\n",
       "\n",
       "    .dataframe tbody tr th {\n",
       "        vertical-align: top;\n",
       "    }\n",
       "\n",
       "    .dataframe thead th {\n",
       "        text-align: right;\n",
       "    }\n",
       "</style>\n",
       "<table border=\"1\" class=\"dataframe\">\n",
       "  <thead>\n",
       "    <tr style=\"text-align: right;\">\n",
       "      <th></th>\n",
       "      <th>k1</th>\n",
       "      <th>k2</th>\n",
       "      <th>v1</th>\n",
       "    </tr>\n",
       "  </thead>\n",
       "  <tbody>\n",
       "    <tr>\n",
       "      <th>0</th>\n",
       "      <td>one</td>\n",
       "      <td>1</td>\n",
       "      <td>0</td>\n",
       "    </tr>\n",
       "    <tr>\n",
       "      <th>1</th>\n",
       "      <td>two</td>\n",
       "      <td>1</td>\n",
       "      <td>1</td>\n",
       "    </tr>\n",
       "    <tr>\n",
       "      <th>2</th>\n",
       "      <td>one</td>\n",
       "      <td>2</td>\n",
       "      <td>2</td>\n",
       "    </tr>\n",
       "    <tr>\n",
       "      <th>3</th>\n",
       "      <td>two</td>\n",
       "      <td>3</td>\n",
       "      <td>3</td>\n",
       "    </tr>\n",
       "    <tr>\n",
       "      <th>4</th>\n",
       "      <td>one</td>\n",
       "      <td>3</td>\n",
       "      <td>4</td>\n",
       "    </tr>\n",
       "    <tr>\n",
       "      <th>5</th>\n",
       "      <td>two</td>\n",
       "      <td>4</td>\n",
       "      <td>5</td>\n",
       "    </tr>\n",
       "    <tr>\n",
       "      <th>6</th>\n",
       "      <td>two</td>\n",
       "      <td>4</td>\n",
       "      <td>6</td>\n",
       "    </tr>\n",
       "  </tbody>\n",
       "</table>\n",
       "</div>"
      ],
      "text/plain": [
       "    k1  k2  v1\n",
       "0  one   1   0\n",
       "1  two   1   1\n",
       "2  one   2   2\n",
       "3  two   3   3\n",
       "4  one   3   4\n",
       "5  two   4   5\n",
       "6  two   4   6"
      ]
     },
     "execution_count": 217,
     "metadata": {},
     "output_type": "execute_result"
    }
   ],
   "source": [
    "data['v1'] = range(7)\n",
    "data"
   ]
  },
  {
   "cell_type": "code",
   "execution_count": 219,
   "id": "4147bfb1-3751-4af7-b33b-67632a85d3c2",
   "metadata": {
    "tags": []
   },
   "outputs": [
    {
     "data": {
      "text/html": [
       "<div>\n",
       "<style scoped>\n",
       "    .dataframe tbody tr th:only-of-type {\n",
       "        vertical-align: middle;\n",
       "    }\n",
       "\n",
       "    .dataframe tbody tr th {\n",
       "        vertical-align: top;\n",
       "    }\n",
       "\n",
       "    .dataframe thead th {\n",
       "        text-align: right;\n",
       "    }\n",
       "</style>\n",
       "<table border=\"1\" class=\"dataframe\">\n",
       "  <thead>\n",
       "    <tr style=\"text-align: right;\">\n",
       "      <th></th>\n",
       "      <th>k1</th>\n",
       "      <th>k2</th>\n",
       "      <th>v1</th>\n",
       "    </tr>\n",
       "  </thead>\n",
       "  <tbody>\n",
       "    <tr>\n",
       "      <th>0</th>\n",
       "      <td>one</td>\n",
       "      <td>1</td>\n",
       "      <td>0</td>\n",
       "    </tr>\n",
       "    <tr>\n",
       "      <th>1</th>\n",
       "      <td>two</td>\n",
       "      <td>1</td>\n",
       "      <td>1</td>\n",
       "    </tr>\n",
       "  </tbody>\n",
       "</table>\n",
       "</div>"
      ],
      "text/plain": [
       "    k1  k2  v1\n",
       "0  one   1   0\n",
       "1  two   1   1"
      ]
     },
     "execution_count": 219,
     "metadata": {},
     "output_type": "execute_result"
    }
   ],
   "source": [
    "data.drop_duplicates(subset=['k1'])"
   ]
  },
  {
   "cell_type": "markdown",
   "id": "0406f294-4382-4f2a-bfd0-9dfd49350640",
   "metadata": {},
   "source": [
    "By default, the first occurrence is being retained. Passing `last` to the `keep` parameter will return the last one."
   ]
  },
  {
   "cell_type": "code",
   "execution_count": 222,
   "id": "ca197818-f5f4-46e0-a62f-753bc417e6b3",
   "metadata": {
    "tags": []
   },
   "outputs": [
    {
     "data": {
      "text/html": [
       "<div>\n",
       "<style scoped>\n",
       "    .dataframe tbody tr th:only-of-type {\n",
       "        vertical-align: middle;\n",
       "    }\n",
       "\n",
       "    .dataframe tbody tr th {\n",
       "        vertical-align: top;\n",
       "    }\n",
       "\n",
       "    .dataframe thead th {\n",
       "        text-align: right;\n",
       "    }\n",
       "</style>\n",
       "<table border=\"1\" class=\"dataframe\">\n",
       "  <thead>\n",
       "    <tr style=\"text-align: right;\">\n",
       "      <th></th>\n",
       "      <th>k1</th>\n",
       "      <th>k2</th>\n",
       "      <th>v1</th>\n",
       "    </tr>\n",
       "  </thead>\n",
       "  <tbody>\n",
       "    <tr>\n",
       "      <th>4</th>\n",
       "      <td>one</td>\n",
       "      <td>3</td>\n",
       "      <td>4</td>\n",
       "    </tr>\n",
       "    <tr>\n",
       "      <th>6</th>\n",
       "      <td>two</td>\n",
       "      <td>4</td>\n",
       "      <td>6</td>\n",
       "    </tr>\n",
       "  </tbody>\n",
       "</table>\n",
       "</div>"
      ],
      "text/plain": [
       "    k1  k2  v1\n",
       "4  one   3   4\n",
       "6  two   4   6"
      ]
     },
     "execution_count": 222,
     "metadata": {},
     "output_type": "execute_result"
    }
   ],
   "source": [
    "data.drop_duplicates(subset=['k1'], keep='last')"
   ]
  },
  {
   "cell_type": "markdown",
   "id": "abb1a083-9dfc-4ee0-a073-9eef531177fb",
   "metadata": {
    "tags": []
   },
   "source": [
    "#### Transforming Data Using a Function or Mapping"
   ]
  },
  {
   "cell_type": "markdown",
   "id": "4387e8fa-952d-4c0a-8c8e-1a47ef3a281e",
   "metadata": {},
   "source": [
    "We can also perform some transformation based on values in an array, Series, or a column in the dataframe. Consider the following hypothetical data collected about various kind of meat:"
   ]
  },
  {
   "cell_type": "code",
   "execution_count": null,
   "id": "aa7d5e04-c87b-4430-8824-d47496df4db7",
   "metadata": {
    "tags": []
   },
   "outputs": [],
   "source": [
    "data = pd.DataFrame({\"food\": [\"bacon\", \"pulled pork\", \"bacon\",\n",
    "                              \"pastrami\", \"corned beef\", \"bacon\",\n",
    "                              \"pastrami\", \"honey ham\", \"nova lox\"],\n",
    "                     \"ounces\": [4, 3, 12, 6, 7.5, 8, 3, 5, 6]})\n",
    "data"
   ]
  },
  {
   "cell_type": "markdown",
   "id": "46caecd3-c3e8-40db-8e03-ea327b4bcaaf",
   "metadata": {},
   "source": [
    "Suppose we want to add a column indicating the type of animal that each food came from. We can do this by defining a mapping between each distinct meat type to the kind of animal."
   ]
  },
  {
   "cell_type": "code",
   "execution_count": null,
   "id": "69c08a47-00d3-4e73-a28c-9228128e6f1f",
   "metadata": {
    "tags": []
   },
   "outputs": [],
   "source": [
    "meat_to_animal = {\n",
    "\"bacon\": \"pig\",\n",
    "\"pulled pork\": \"pig\",\n",
    "\"pastrami\": \"cow\",\n",
    "\"corned beef\": \"cow\",\n",
    "\"honey ham\": \"pig\",\n",
    "\"nova lox\": \"salmon\"\n",
    "}"
   ]
  },
  {
   "cell_type": "code",
   "execution_count": null,
   "id": "d06651d0-99a6-4722-b0fe-e513580fff6c",
   "metadata": {},
   "outputs": [],
   "source": [
    "data['animal'] = data['food'].map(meat_to_animal)\n",
    "data"
   ]
  },
  {
   "cell_type": "markdown",
   "id": "627415c0-6304-4dce-9da2-46da5f45d509",
   "metadata": {},
   "source": [
    "Alternatively, we can use a function to perform and transform the values of the data frame. For example, we want to convert the ounce values to kilograms, we can define the conversion:"
   ]
  },
  {
   "cell_type": "code",
   "execution_count": null,
   "id": "52b30cc4-9075-446d-8a40-8582734c35ed",
   "metadata": {
    "tags": []
   },
   "outputs": [],
   "source": [
    "ounces_to_kg = lambda x: 0.0283495*x"
   ]
  },
  {
   "cell_type": "code",
   "execution_count": null,
   "id": "563bb134-3296-4e85-96a1-ba4af8711d11",
   "metadata": {
    "tags": []
   },
   "outputs": [],
   "source": [
    "data['kg'] = data.ounces.apply(ounces_to_kg)\n",
    "data"
   ]
  },
  {
   "cell_type": "markdown",
   "id": "3dd214b4-d74f-474c-8773-de96c348ffe6",
   "metadata": {
    "tags": []
   },
   "source": [
    "#### Replacing Values"
   ]
  },
  {
   "cell_type": "markdown",
   "id": "fe92fff4-d035-4a55-a566-6e9d623b4b34",
   "metadata": {
    "execution": {
     "iopub.execute_input": "2024-02-24T03:15:50.571858Z",
     "iopub.status.busy": "2024-02-24T03:15:50.571373Z",
     "iopub.status.idle": "2024-02-24T03:15:50.578152Z",
     "shell.execute_reply": "2024-02-24T03:15:50.577087Z",
     "shell.execute_reply.started": "2024-02-24T03:15:50.571832Z"
    }
   },
   "source": [
    "We can also replace specific values using the `replace` method."
   ]
  },
  {
   "cell_type": "code",
   "execution_count": null,
   "id": "6431a8bf-5bce-4260-a6d7-69f80fb251ab",
   "metadata": {
    "tags": []
   },
   "outputs": [],
   "source": [
    "data = pd.Series([1., -999., 2., -999., -1000., 3.])"
   ]
  },
  {
   "cell_type": "markdown",
   "id": "3a0808a9-ea68-4a53-8d75-6eb132a6cafc",
   "metadata": {},
   "source": [
    "We can specify this in various ways"
   ]
  },
  {
   "cell_type": "code",
   "execution_count": null,
   "id": "6b440fae-62ee-4eb1-85dd-b2e31a60b7ad",
   "metadata": {
    "tags": []
   },
   "outputs": [],
   "source": [
    "data.replace(-999, np.nan)"
   ]
  },
  {
   "cell_type": "code",
   "execution_count": null,
   "id": "24936652-8914-499b-8117-8434ff54872d",
   "metadata": {
    "tags": []
   },
   "outputs": [],
   "source": [
    "data.replace([-999, -1000], np.nan)"
   ]
  },
  {
   "cell_type": "code",
   "execution_count": null,
   "id": "11b9c324-4950-4639-a30c-2e58172c7d09",
   "metadata": {
    "tags": []
   },
   "outputs": [],
   "source": [
    "data.replace([-999, -1000], [np.nan, 0])"
   ]
  },
  {
   "cell_type": "code",
   "execution_count": null,
   "id": "555b1d76-6056-44db-80fb-2459e27343bf",
   "metadata": {
    "tags": []
   },
   "outputs": [],
   "source": [
    "data.replace({-999: np.nan, -1000: 0})"
   ]
  },
  {
   "cell_type": "markdown",
   "id": "7183b75b-1aa8-4454-ab76-1bafb9093d3c",
   "metadata": {
    "tags": []
   },
   "source": [
    "#### Renaming Axis Indexes"
   ]
  },
  {
   "cell_type": "markdown",
   "id": "57c77bf3-0e30-445a-a338-e325e6cea0e8",
   "metadata": {},
   "source": [
    "Axis labels can also be trasnforemed by a funciton or mapping to produce new, differently labeled objects."
   ]
  },
  {
   "cell_type": "code",
   "execution_count": null,
   "id": "c6824394-30a8-4fdc-ba8f-013bb01ba957",
   "metadata": {
    "tags": []
   },
   "outputs": [],
   "source": [
    "data = pd.DataFrame(np.arange(12).reshape((3, 4)),\n",
    "                    index=[\"Ohio\", \"Colorado\", \"New York\"],\n",
    "                    columns=[\"one\", \"two\", \"three\", \"four\"])\n",
    "data"
   ]
  },
  {
   "cell_type": "markdown",
   "id": "1332455c-9780-4171-abf1-e097399d3181",
   "metadata": {},
   "source": [
    "We can assign the `index` of a data frame to modify it in place."
   ]
  },
  {
   "cell_type": "code",
   "execution_count": null,
   "id": "ec725ba5-2545-413a-8c39-f16a4ac928fc",
   "metadata": {
    "tags": []
   },
   "outputs": [],
   "source": [
    "data.index = data.index.map(lambda x: x[:4].upper())\n",
    "data"
   ]
  },
  {
   "cell_type": "markdown",
   "id": "45fdf129-e881-43d2-bb55-70cd2d73a3c5",
   "metadata": {},
   "source": [
    "If we want to create a transformed version without modifying the original, we can use the `rename` method."
   ]
  },
  {
   "cell_type": "code",
   "execution_count": null,
   "id": "dfa908f4-29c6-44d6-ab19-6baa3d24d6ad",
   "metadata": {
    "tags": []
   },
   "outputs": [],
   "source": [
    "data.rename(index=str.title, columns=str.upper)"
   ]
  },
  {
   "cell_type": "markdown",
   "id": "65584061-f927-4603-a9ec-0f5b2bfce6c3",
   "metadata": {},
   "source": [
    "We can also specify a dictionary instead of a function"
   ]
  },
  {
   "cell_type": "code",
   "execution_count": null,
   "id": "86a0cd7f-6c60-4d18-bec3-33962f71ff28",
   "metadata": {
    "tags": []
   },
   "outputs": [],
   "source": [
    "data.rename(index={'OHIO': 'INDIANA'},\n",
    "            columns={'three': 'peekaboo'})"
   ]
  },
  {
   "cell_type": "markdown",
   "id": "adb78983-394b-41d5-b87f-384cf155df4b",
   "metadata": {
    "tags": []
   },
   "source": [
    "#### Discretization and Binning"
   ]
  },
  {
   "cell_type": "markdown",
   "id": "89960184-317f-44f9-9d8a-bb4be3cea48e",
   "metadata": {},
   "source": [
    "Continuous data is often discretized or separated into \"bins\" for analysis. For example, we have data about age of a population and you want to group them into a discrete age buckets:"
   ]
  },
  {
   "cell_type": "code",
   "execution_count": null,
   "id": "1a6fe2cb-80f6-4a44-b4cd-631e69e00114",
   "metadata": {
    "tags": []
   },
   "outputs": [],
   "source": [
    "ages = [20, 22, 25, 27, 21, 23, 37, 31, 61, 45, 41, 32]\n",
    "bins = [18, 25, 35, 60, 100]"
   ]
  },
  {
   "cell_type": "code",
   "execution_count": null,
   "id": "a7af847e-a913-4ca6-9c1f-860bba9c9851",
   "metadata": {
    "tags": []
   },
   "outputs": [],
   "source": [
    "age_categories = pd.cut(ages, bins)\n",
    "age_categories"
   ]
  },
  {
   "cell_type": "markdown",
   "id": "1282dded-5eaa-4a01-98e3-fc0ddd50196e",
   "metadata": {},
   "source": [
    "The result is a special `Categorical` object. Each bin is identified by a special (unique to pandas) interval value type containing the lower and upper limit of each bin."
   ]
  },
  {
   "cell_type": "code",
   "execution_count": null,
   "id": "daa83ad4-4cfb-49f3-82fe-06a1fc401b0b",
   "metadata": {
    "tags": []
   },
   "outputs": [],
   "source": [
    "age_categories.codes"
   ]
  },
  {
   "cell_type": "code",
   "execution_count": null,
   "id": "954dc148-95eb-4175-aee9-7c7609c20268",
   "metadata": {
    "tags": []
   },
   "outputs": [],
   "source": [
    "age_categories.categories"
   ]
  },
  {
   "cell_type": "code",
   "execution_count": null,
   "id": "2da18bfc-ef18-450b-9c8d-f21abefba444",
   "metadata": {
    "tags": []
   },
   "outputs": [],
   "source": [
    "age_categories.categories[0]"
   ]
  },
  {
   "cell_type": "markdown",
   "id": "8b824a4f-4c49-4aba-99cb-80efe63d616b",
   "metadata": {},
   "source": [
    "We can specify which side is closed by passing the `right` argument."
   ]
  },
  {
   "cell_type": "code",
   "execution_count": null,
   "id": "5c1293ea-f2d1-4b90-ba61-a3eff402b16d",
   "metadata": {
    "tags": []
   },
   "outputs": [],
   "source": [
    "pd.cut(ages, bins, right=False)"
   ]
  },
  {
   "cell_type": "markdown",
   "id": "f7660ee4-10ef-434a-9484-51f7bd1712bc",
   "metadata": {},
   "source": [
    "You can override the default interval-based labeling by passing a list or array to the `labels` parameter."
   ]
  },
  {
   "cell_type": "code",
   "execution_count": null,
   "id": "e0e3bae0-a0b6-4299-ac49-ce3a0220d66f",
   "metadata": {
    "tags": []
   },
   "outputs": [],
   "source": [
    "group_names = ['Youth', 'YoungAdult', 'MiddleAged', 'Senior']\n",
    "pd.cut(ages, bins, labels=group_names)"
   ]
  },
  {
   "cell_type": "markdown",
   "id": "32cbcc7f-bbd5-42c8-b70c-5da515c78e4c",
   "metadata": {},
   "source": [
    "If you pass an integer number of bins to `pandas.cut` it will compute an equal-length bin based on the minimum and maximum values in the data."
   ]
  },
  {
   "cell_type": "code",
   "execution_count": null,
   "id": "85847d9a-1f4e-4b42-8cb5-93d63253ab31",
   "metadata": {
    "tags": []
   },
   "outputs": [],
   "source": [
    "data = np.random.uniform(size=20)\n",
    "pd.cut(data, 4, precision=2)"
   ]
  },
  {
   "cell_type": "markdown",
   "id": "26ede81a-6beb-44a6-bf3e-743b0281a7d2",
   "metadata": {},
   "source": [
    "`precision` specifies the decimal precision of the output."
   ]
  },
  {
   "cell_type": "markdown",
   "id": "1a6d15a7-3515-4430-8209-fca573955301",
   "metadata": {},
   "source": [
    "A closely related function is `pd.qcut` which bins the data based on sample quantiles."
   ]
  },
  {
   "cell_type": "code",
   "execution_count": null,
   "id": "883c73a8-ba23-4745-b192-628fef4519a4",
   "metadata": {
    "tags": []
   },
   "outputs": [],
   "source": [
    "data = np.random.standard_normal(1_000)\n",
    "quartiles = pd.qcut(data, 4, precision=2)\n",
    "quartiles"
   ]
  },
  {
   "cell_type": "code",
   "execution_count": null,
   "id": "f35159ad-fd47-45ba-bc98-ec2a66cc646c",
   "metadata": {
    "tags": []
   },
   "outputs": [],
   "source": [
    "pd.value_counts(quartiles)"
   ]
  },
  {
   "cell_type": "markdown",
   "id": "1c8ca843-a9be-4b12-9fc1-797eb691dcc1",
   "metadata": {
    "tags": []
   },
   "source": [
    "#### Detecting and Filtering Outliers"
   ]
  },
  {
   "cell_type": "markdown",
   "id": "64692bbb-764a-4cc4-8fb0-c5dd0f5c6547",
   "metadata": {},
   "source": [
    "Filtering or transforming outliers is largely a matter of applying array operations. Suppose give a data,"
   ]
  },
  {
   "cell_type": "code",
   "execution_count": null,
   "id": "c8e33416-bd1a-438b-9415-b5509767fcd5",
   "metadata": {
    "tags": []
   },
   "outputs": [],
   "source": [
    "data = pd.DataFrame(np.random.standard_normal((1_000, 4)))\n",
    "data"
   ]
  },
  {
   "cell_type": "markdown",
   "id": "c09ed516-c573-417d-b538-cbea69f89bb0",
   "metadata": {},
   "source": [
    "We want to retain only those within 3 sigma of the mean\n",
    "\n",
    "$$\n",
    "x = \\mu \\pm 3 \\sigma\n",
    "$$"
   ]
  },
  {
   "cell_type": "markdown",
   "id": "09bc41f1-96ba-4c06-a632-53669d4e5990",
   "metadata": {},
   "source": [
    "We can use a combination of boolean array operations to determine which values are outliers."
   ]
  },
  {
   "cell_type": "code",
   "execution_count": null,
   "id": "7ba3cbe6-4808-475c-9d6d-8fef700856c1",
   "metadata": {
    "tags": []
   },
   "outputs": [],
   "source": [
    "outliers_mask = data > data.mean() + 3*data.std()\n",
    "outliers_mask |= data < data.mean() - 3*data.std()"
   ]
  },
  {
   "cell_type": "code",
   "execution_count": null,
   "id": "4c2e4adb-8fe2-4abe-88ea-926871083b90",
   "metadata": {
    "tags": []
   },
   "outputs": [],
   "source": [
    "outliers_mask.sum()"
   ]
  },
  {
   "cell_type": "markdown",
   "id": "3311f9bd-4681-4864-b806-844e02ef57e2",
   "metadata": {},
   "source": [
    "To select the rows having values that exceeds our outlier condition, we can use  the `any` method on a Boolean DataFrame."
   ]
  },
  {
   "cell_type": "code",
   "execution_count": null,
   "id": "69ddaf3d-8ef1-45a8-9c09-64fdbca6845d",
   "metadata": {
    "tags": []
   },
   "outputs": [],
   "source": [
    "data[outliers_mask.any(axis='columns')]"
   ]
  },
  {
   "cell_type": "markdown",
   "id": "2803a2f7-87d3-473c-87bc-3459a98670d7",
   "metadata": {
    "tags": []
   },
   "source": [
    "#### Permutation and Random Sampling"
   ]
  },
  {
   "cell_type": "markdown",
   "id": "d3321830-7c24-4f3c-829e-e4f209578f55",
   "metadata": {},
   "source": [
    "Permuting (randomly reordering) a Series or DataFrame is possible using the `np.random.permutation` function. Afterwards, we can use fancy indexing or the `take` method to get the permuted data."
   ]
  },
  {
   "cell_type": "code",
   "execution_count": null,
   "id": "5e4c82dd-bcac-4129-a66b-ea1065fd6b40",
   "metadata": {
    "tags": []
   },
   "outputs": [],
   "source": [
    "df = pd.DataFrame(np.arange(5 * 7).reshape((5, 7)))\n",
    "df"
   ]
  },
  {
   "cell_type": "code",
   "execution_count": null,
   "id": "fe6caad2-5f39-4420-9279-768d589e985b",
   "metadata": {
    "tags": []
   },
   "outputs": [],
   "source": [
    "np.random.seed(1337)\n",
    "sampler = np.random.permutation(df.shape[0])\n",
    "sampler"
   ]
  },
  {
   "cell_type": "code",
   "execution_count": null,
   "id": "c36c0cfc-8359-4470-ad3f-99299d7c23f0",
   "metadata": {
    "tags": []
   },
   "outputs": [],
   "source": [
    "df.iloc[sampler]"
   ]
  },
  {
   "cell_type": "code",
   "execution_count": null,
   "id": "7d8eaf58-01a7-431c-b4a3-9721fb1dc082",
   "metadata": {
    "tags": []
   },
   "outputs": [],
   "source": [
    "df.take(sampler)"
   ]
  },
  {
   "cell_type": "markdown",
   "id": "33f91342-4c24-40f4-8d58-bf962a771dec",
   "metadata": {},
   "source": [
    "We can also permute the columns by specifying the `axis` parameter."
   ]
  },
  {
   "cell_type": "code",
   "execution_count": null,
   "id": "af417f57-9555-4c5e-9b39-0db511c95901",
   "metadata": {
    "tags": []
   },
   "outputs": [],
   "source": [
    "np.random.seed(1337)\n",
    "column_sampler = np.random.permutation(df.shape[1])\n",
    "df.take(column_sampler, axis='columns')"
   ]
  },
  {
   "cell_type": "markdown",
   "id": "e4ea0d21-40b3-4c85-aa56-d44a92b892a7",
   "metadata": {
    "tags": []
   },
   "source": [
    "### String Manipulation"
   ]
  },
  {
   "cell_type": "markdown",
   "id": "a51dcce1-7c7e-44c6-ac57-45dabbea44ef",
   "metadata": {},
   "source": [
    "pandas incorporates the usual built-in python string operations as a methods operating on a Series. Here is a partial list of those methods."
   ]
  },
  {
   "cell_type": "markdown",
   "id": "2e8fc1c4-2073-411d-890b-0ab3a17c4866",
   "metadata": {},
   "source": [
    "<img src=\"images/string.png\" style=\"width: 65%;\">"
   ]
  },
  {
   "cell_type": "markdown",
   "id": "14e2d271-3abb-4bf8-bfcb-375df8bd385e",
   "metadata": {},
   "source": [
    "We will demonstrate a few of those using this sample data."
   ]
  },
  {
   "cell_type": "code",
   "execution_count": null,
   "id": "340ac6e4-0ec5-45a5-a497-a7a63b2676d5",
   "metadata": {
    "tags": []
   },
   "outputs": [],
   "source": [
    "data = {\"Dave\": \"dave@google.com\", \"Steve\": \"steve@gmail.com\",\n",
    "        \"Rob\": \"rob@gmail.com\", \"Wes\": np.nan}\n",
    "data = pd.Series(data)\n",
    "data"
   ]
  },
  {
   "cell_type": "code",
   "execution_count": null,
   "id": "c0c00389-6867-4e09-a814-095265d9329f",
   "metadata": {
    "tags": []
   },
   "outputs": [],
   "source": [
    "data.str.contains('gmail')"
   ]
  },
  {
   "cell_type": "code",
   "execution_count": null,
   "id": "146d0076-152e-4cbd-9c69-d90d3980a3ec",
   "metadata": {
    "tags": []
   },
   "outputs": [],
   "source": [
    "data.str.split('@')"
   ]
  },
  {
   "cell_type": "code",
   "execution_count": null,
   "id": "91d6e76f-e827-4203-aae7-c7b447f72e03",
   "metadata": {
    "tags": []
   },
   "outputs": [],
   "source": [
    "data.str.split('@').str.join('#')"
   ]
  },
  {
   "cell_type": "code",
   "execution_count": null,
   "id": "f8a9268d-70aa-403c-aa88-798603c0fbc9",
   "metadata": {
    "tags": []
   },
   "outputs": [],
   "source": [
    "data.str.split('@').str[0]"
   ]
  },
  {
   "cell_type": "markdown",
   "id": "41d813f1-7115-4351-a5a2-a0ed10167eb5",
   "metadata": {},
   "source": [
    "## Data Exploration"
   ]
  },
  {
   "cell_type": "markdown",
   "id": "82bf4e73-2c15-4149-85dd-e4ad11c67aab",
   "metadata": {},
   "source": [
    "pandas object are also equipped with a set of common mathematical and statistical methods that allow for reduction or summarization of a dataset."
   ]
  },
  {
   "cell_type": "markdown",
   "id": "53f5f54b-7a9f-41c2-b1a3-e990c20bc7ad",
   "metadata": {},
   "source": [
    "Say we are given with the following dataset:"
   ]
  },
  {
   "cell_type": "code",
   "execution_count": null,
   "id": "5914b5f1-d9b1-4b0a-ac39-8b45b600ae10",
   "metadata": {
    "tags": []
   },
   "outputs": [],
   "source": [
    "data = pd.read_csv(\n",
    "    'data/2022-2023_nba_regular.csv', sep=';', encoding = 'ISO-8859-1',\n",
    ").drop_duplicates(subset='Rk').set_index('Rk')\n",
    "data"
   ]
  },
  {
   "cell_type": "markdown",
   "id": "6b1dcf26-7c91-476a-bdf3-2d8acbaa9870",
   "metadata": {},
   "source": [
    "### Summary Statistics"
   ]
  },
  {
   "cell_type": "markdown",
   "id": "4a9cf211-b369-4789-b6f6-5b561960d66b",
   "metadata": {},
   "source": [
    "We can use the `describe` method to give a summary statistics for chosen columns:"
   ]
  },
  {
   "cell_type": "code",
   "execution_count": null,
   "id": "c36c449f-c2c7-4c9e-82e8-76c5acb4139a",
   "metadata": {
    "tags": []
   },
   "outputs": [],
   "source": [
    "data.columns"
   ]
  },
  {
   "cell_type": "code",
   "execution_count": null,
   "id": "97842663-d4eb-4eef-9382-9b00fb30d4c0",
   "metadata": {
    "tags": []
   },
   "outputs": [],
   "source": [
    "columns = ['AST', 'STL', 'BLK', 'TOV', '3P', 'PTS']\n",
    "data.loc[:, columns].describe()"
   ]
  },
  {
   "cell_type": "markdown",
   "id": "6a3dfa22-8803-4676-9899-b95d863df5fa",
   "metadata": {},
   "source": [
    "We can reduce the dataset using common summary statistics and related methods."
   ]
  },
  {
   "cell_type": "code",
   "execution_count": null,
   "id": "3c75040d-6ad3-4bb6-b864-9b6419da29ad",
   "metadata": {
    "tags": []
   },
   "outputs": [],
   "source": [
    "data.loc[:, columns].median()"
   ]
  },
  {
   "cell_type": "code",
   "execution_count": null,
   "id": "5b43c12a-5d43-489e-b27f-3e25cddcf85e",
   "metadata": {
    "tags": []
   },
   "outputs": [],
   "source": [
    "data.loc[:, columns].max()"
   ]
  },
  {
   "cell_type": "code",
   "execution_count": null,
   "id": "c1ef6569-0a80-44f8-875b-f69bd575eebf",
   "metadata": {
    "tags": []
   },
   "outputs": [],
   "source": [
    "data.loc[:, columns].min()"
   ]
  },
  {
   "cell_type": "markdown",
   "id": "4b78e5fb-6884-40bf-9df9-5caafc0a416b",
   "metadata": {},
   "source": [
    "### Correlation and Covariance"
   ]
  },
  {
   "cell_type": "markdown",
   "id": "b0d1f9e3-de67-4f9a-85af-c1d3a8b58165",
   "metadata": {},
   "source": [
    "You can also compute the correlation per series or per data frame"
   ]
  },
  {
   "cell_type": "code",
   "execution_count": null,
   "id": "c35699ce-c039-40a3-8f89-66b517385f03",
   "metadata": {
    "tags": []
   },
   "outputs": [],
   "source": [
    "data['3P'].corr(data.TOV)"
   ]
  },
  {
   "cell_type": "code",
   "execution_count": null,
   "id": "94549653-6d18-415e-887a-740fba682b0f",
   "metadata": {
    "tags": []
   },
   "outputs": [],
   "source": [
    "data.loc[:, columns].corr()"
   ]
  },
  {
   "cell_type": "code",
   "execution_count": null,
   "id": "9513324e-bf75-44c2-ae83-877817761a5e",
   "metadata": {
    "tags": []
   },
   "outputs": [],
   "source": [
    "data.loc[:, columns].cov()"
   ]
  },
  {
   "cell_type": "markdown",
   "id": "4ed38c27-7108-4df9-bc76-4001d54e1e08",
   "metadata": {},
   "source": [
    "### Unique Values, Value Counts, and Membership"
   ]
  },
  {
   "cell_type": "markdown",
   "id": "61ce5725-0e79-47ed-8922-38f4dcfc2d35",
   "metadata": {},
   "source": [
    "Another class of method extracts information about the unique values contained in a Series or DataFrame. For example, we want to get the unique positions in NBA, we can use the `unique` method."
   ]
  },
  {
   "cell_type": "code",
   "execution_count": null,
   "id": "c862e6de-e140-401f-8d0c-b0f9cd106e85",
   "metadata": {
    "tags": []
   },
   "outputs": [],
   "source": [
    "data.Pos.unique()"
   ]
  },
  {
   "cell_type": "markdown",
   "id": "09546705-8dfa-4123-ad99-7b7dc949078c",
   "metadata": {},
   "source": [
    "A very common operation is to compute the frequency counts of a specific variable. For example, if we want to compute the frequency counts of the age in our dataset, we can:"
   ]
  },
  {
   "cell_type": "code",
   "execution_count": null,
   "id": "54fbf925-a2e1-4c20-b2ea-d0dc7945e6d5",
   "metadata": {
    "tags": []
   },
   "outputs": [],
   "source": [
    "age_counts = data.Age.value_counts().sort_index()\n",
    "age_counts"
   ]
  },
  {
   "cell_type": "markdown",
   "id": "4a2d7785-5f0d-462c-a4ba-e56c58a418cf",
   "metadata": {},
   "source": [
    "We can also generate a frequency plot count using this data."
   ]
  },
  {
   "cell_type": "code",
   "execution_count": null,
   "id": "fad17239-ff2b-4821-b0d5-6ef0f92d1edf",
   "metadata": {
    "tags": []
   },
   "outputs": [],
   "source": [
    "import matplotlib.pyplot as plt"
   ]
  },
  {
   "cell_type": "code",
   "execution_count": null,
   "id": "98e9d5bb-b5e1-49dd-88e8-30854c10928f",
   "metadata": {
    "tags": []
   },
   "outputs": [],
   "source": [
    "fig, ax = plt.subplots()\n",
    "\n",
    "ax.bar(age_counts.index, age_counts)\n",
    "ax.spines[['top', 'right']].set_visible(False)"
   ]
  },
  {
   "cell_type": "markdown",
   "id": "89d8eece-ca85-429b-a03d-0424de01502c",
   "metadata": {},
   "source": [
    "More visualization options will be discussed in the "
   ]
  },
  {
   "cell_type": "markdown",
   "id": "2112ac24-73f7-4989-9ab8-16269c455a58",
   "metadata": {},
   "source": [
    "## 4 Supplemental Exercises"
   ]
  },
  {
   "cell_type": "markdown",
   "id": "02bf3136-4a26-46f4-bf7b-11b95f60deea",
   "metadata": {},
   "source": [
    "For additional exercises, check the following resources:\n",
    "\n",
    "1. https://codesolid.com/pandas-practice-examples/#part-two-pandas-review-questions\n",
    "2. https://www.practiceprobs.com/problemsets/python-pandas/\n",
    "3. https://www.w3resource.com/python-exercises/pandas/index.php"
   ]
  },
  {
   "cell_type": "code",
   "execution_count": null,
   "id": "0c7bcd39-0503-4efe-81e2-33e0311ace82",
   "metadata": {},
   "outputs": [],
   "source": []
  }
 ],
 "metadata": {
  "kernelspec": {
   "display_name": "Python [conda env:base] *",
   "language": "python",
   "name": "conda-base-py"
  },
  "language_info": {
   "codemirror_mode": {
    "name": "ipython",
    "version": 3
   },
   "file_extension": ".py",
   "mimetype": "text/x-python",
   "name": "python",
   "nbconvert_exporter": "python",
   "pygments_lexer": "ipython3",
   "version": "3.12.7"
  }
 },
 "nbformat": 4,
 "nbformat_minor": 5
}
